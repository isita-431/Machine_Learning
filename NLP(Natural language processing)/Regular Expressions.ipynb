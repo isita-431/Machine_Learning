{
 "cells": [
  {
   "cell_type": "code",
   "execution_count": 1,
   "id": "166711d8",
   "metadata": {},
   "outputs": [],
   "source": [
    "import re"
   ]
  },
  {
   "cell_type": "code",
   "execution_count": 2,
   "id": "9e652036",
   "metadata": {},
   "outputs": [],
   "source": [
    "string = 'Here is my book'"
   ]
  },
  {
   "cell_type": "code",
   "execution_count": 3,
   "id": "af99e630",
   "metadata": {},
   "outputs": [],
   "source": [
    "pattern = 'book'"
   ]
  },
  {
   "cell_type": "code",
   "execution_count": 6,
   "id": "1d59a5e2",
   "metadata": {},
   "outputs": [
    {
     "data": {
      "text/plain": [
       "<re.Match object; span=(11, 15), match='book'>"
      ]
     },
     "execution_count": 6,
     "metadata": {},
     "output_type": "execute_result"
    }
   ],
   "source": [
    "# searching for the pattern\n",
    "re.search(pattern, string)"
   ]
  },
  {
   "cell_type": "code",
   "execution_count": 7,
   "id": "425da79a",
   "metadata": {},
   "outputs": [],
   "source": [
    "match = re.search(pattern, string)"
   ]
  },
  {
   "cell_type": "code",
   "execution_count": 8,
   "id": "1e9991a7",
   "metadata": {},
   "outputs": [
    {
     "data": {
      "text/plain": [
       "(11, 15)"
      ]
     },
     "execution_count": 8,
     "metadata": {},
     "output_type": "execute_result"
    }
   ],
   "source": [
    "match.span()"
   ]
  },
  {
   "cell_type": "code",
   "execution_count": 9,
   "id": "67ed8874",
   "metadata": {},
   "outputs": [
    {
     "data": {
      "text/plain": [
       "11"
      ]
     },
     "execution_count": 9,
     "metadata": {},
     "output_type": "execute_result"
    }
   ],
   "source": [
    "match.start()"
   ]
  },
  {
   "cell_type": "code",
   "execution_count": 10,
   "id": "a8b6221d",
   "metadata": {},
   "outputs": [
    {
     "data": {
      "text/plain": [
       "15"
      ]
     },
     "execution_count": 10,
     "metadata": {},
     "output_type": "execute_result"
    }
   ],
   "source": [
    "match.end()"
   ]
  },
  {
   "cell_type": "code",
   "execution_count": 14,
   "id": "9a96d85b",
   "metadata": {},
   "outputs": [],
   "source": [
    "text2 = 'book 1, book 2'"
   ]
  },
  {
   "cell_type": "code",
   "execution_count": 15,
   "id": "0895d3b8",
   "metadata": {},
   "outputs": [],
   "source": [
    "# for finding all patterns use findall() method\n",
    "all_matches = re.findall(pattern, text2)"
   ]
  },
  {
   "cell_type": "code",
   "execution_count": 16,
   "id": "63c23dc9",
   "metadata": {},
   "outputs": [
    {
     "data": {
      "text/plain": [
       "['book', 'book']"
      ]
     },
     "execution_count": 16,
     "metadata": {},
     "output_type": "execute_result"
    }
   ],
   "source": [
    "all_matches"
   ]
  },
  {
   "cell_type": "code",
   "execution_count": 17,
   "id": "9bcf4cd3",
   "metadata": {},
   "outputs": [
    {
     "name": "stdout",
     "output_type": "stream",
     "text": [
      "(0, 4)\n",
      "(8, 12)\n"
     ]
    }
   ],
   "source": [
    "for match in re.finditer(pattern,text2):\n",
    "    print(match.span())"
   ]
  },
  {
   "cell_type": "code",
   "execution_count": 22,
   "id": "8a47524a",
   "metadata": {},
   "outputs": [],
   "source": [
    "pattern2 = r'\\d\\d\\d-\\d\\d\\d'"
   ]
  },
  {
   "cell_type": "code",
   "execution_count": 23,
   "id": "7637f9b8",
   "metadata": {},
   "outputs": [],
   "source": [
    "string2 = 'The number is 375-834'"
   ]
  },
  {
   "cell_type": "code",
   "execution_count": 24,
   "id": "422907ab",
   "metadata": {},
   "outputs": [],
   "source": [
    "phone_number = re.search(pattern2, string2)"
   ]
  },
  {
   "cell_type": "code",
   "execution_count": 25,
   "id": "73b10acb",
   "metadata": {},
   "outputs": [
    {
     "data": {
      "text/plain": [
       "<re.Match object; span=(14, 21), match='375-834'>"
      ]
     },
     "execution_count": 25,
     "metadata": {},
     "output_type": "execute_result"
    }
   ],
   "source": [
    "phone_number"
   ]
  },
  {
   "cell_type": "code",
   "execution_count": 26,
   "id": "0d65dbc0",
   "metadata": {},
   "outputs": [
    {
     "data": {
      "text/plain": [
       "'375-834'"
      ]
     },
     "execution_count": 26,
     "metadata": {},
     "output_type": "execute_result"
    }
   ],
   "source": [
    "phone_number.group()"
   ]
  },
  {
   "cell_type": "code",
   "execution_count": 27,
   "id": "88ba0f45",
   "metadata": {},
   "outputs": [],
   "source": [
    "pattern2 = r'\\d{3}-\\d{3}'"
   ]
  },
  {
   "cell_type": "code",
   "execution_count": 28,
   "id": "a08661f1",
   "metadata": {},
   "outputs": [],
   "source": [
    "string2 = 'The number is 375-834'"
   ]
  },
  {
   "cell_type": "code",
   "execution_count": 29,
   "id": "7ff8f023",
   "metadata": {},
   "outputs": [],
   "source": [
    "phone_number = re.search(pattern2, string2)"
   ]
  },
  {
   "cell_type": "code",
   "execution_count": 30,
   "id": "09b603a5",
   "metadata": {},
   "outputs": [
    {
     "data": {
      "text/plain": [
       "<re.Match object; span=(14, 21), match='375-834'>"
      ]
     },
     "execution_count": 30,
     "metadata": {},
     "output_type": "execute_result"
    }
   ],
   "source": [
    "phone_number"
   ]
  },
  {
   "cell_type": "code",
   "execution_count": 31,
   "id": "2e7bd546",
   "metadata": {},
   "outputs": [
    {
     "data": {
      "text/plain": [
       "'375-834'"
      ]
     },
     "execution_count": 31,
     "metadata": {},
     "output_type": "execute_result"
    }
   ],
   "source": [
    "phone_number.group()"
   ]
  },
  {
   "cell_type": "code",
   "execution_count": null,
   "id": "47703fa4",
   "metadata": {},
   "outputs": [],
   "source": []
  },
  {
   "cell_type": "code",
   "execution_count": 33,
   "id": "194b5207",
   "metadata": {},
   "outputs": [],
   "source": [
    "pattern2 = r'(\\d{3})-(\\d{3})'"
   ]
  },
  {
   "cell_type": "code",
   "execution_count": 34,
   "id": "8c6a6eb3",
   "metadata": {},
   "outputs": [],
   "source": [
    "string2 = 'The number is 375-834'"
   ]
  },
  {
   "cell_type": "code",
   "execution_count": 35,
   "id": "eddc8b2e",
   "metadata": {},
   "outputs": [],
   "source": [
    "phone_number = re.search(pattern2, string2)"
   ]
  },
  {
   "cell_type": "code",
   "execution_count": 36,
   "id": "15a28105",
   "metadata": {},
   "outputs": [
    {
     "data": {
      "text/plain": [
       "<re.Match object; span=(14, 21), match='375-834'>"
      ]
     },
     "execution_count": 36,
     "metadata": {},
     "output_type": "execute_result"
    }
   ],
   "source": [
    "phone_number"
   ]
  },
  {
   "cell_type": "code",
   "execution_count": 37,
   "id": "d5fa90c2",
   "metadata": {},
   "outputs": [
    {
     "data": {
      "text/plain": [
       "'375-834'"
      ]
     },
     "execution_count": 37,
     "metadata": {},
     "output_type": "execute_result"
    }
   ],
   "source": [
    "phone_number.group()"
   ]
  },
  {
   "cell_type": "code",
   "execution_count": 38,
   "id": "d0431232",
   "metadata": {},
   "outputs": [
    {
     "data": {
      "text/plain": [
       "'375'"
      ]
     },
     "execution_count": 38,
     "metadata": {},
     "output_type": "execute_result"
    }
   ],
   "source": [
    "phone_number.group(1)"
   ]
  },
  {
   "cell_type": "code",
   "execution_count": 39,
   "id": "d5c86f3f",
   "metadata": {},
   "outputs": [
    {
     "data": {
      "text/plain": [
       "'834'"
      ]
     },
     "execution_count": 39,
     "metadata": {},
     "output_type": "execute_result"
    }
   ],
   "source": [
    "phone_number.group(2)"
   ]
  },
  {
   "cell_type": "code",
   "execution_count": 40,
   "id": "0fb0fc9d",
   "metadata": {},
   "outputs": [
    {
     "data": {
      "text/plain": [
       "<re.Match object; span=(12, 15), match='man'>"
      ]
     },
     "execution_count": 40,
     "metadata": {},
     "output_type": "execute_result"
    }
   ],
   "source": [
    "re.search(r'man|woman','god created man and woman')"
   ]
  },
  {
   "cell_type": "code",
   "execution_count": 41,
   "id": "cf55e8ba",
   "metadata": {},
   "outputs": [
    {
     "data": {
      "text/plain": [
       "['man', 'woman']"
      ]
     },
     "execution_count": 41,
     "metadata": {},
     "output_type": "execute_result"
    }
   ],
   "source": [
    "re.findall(r'man|woman','god created man and woman')"
   ]
  },
  {
   "cell_type": "code",
   "execution_count": 42,
   "id": "a6412e8e",
   "metadata": {},
   "outputs": [
    {
     "data": {
      "text/plain": [
       "['cat', 'hat', 'sat', 'lat']"
      ]
     },
     "execution_count": 42,
     "metadata": {},
     "output_type": "execute_result"
    }
   ],
   "source": [
    "re.findall(r'.at', 'The cat in the hat sat splat')"
   ]
  },
  {
   "cell_type": "code",
   "execution_count": 43,
   "id": "b8e7c76a",
   "metadata": {},
   "outputs": [
    {
     "data": {
      "text/plain": [
       "[' cat', ' hat', ' sat', 'plat']"
      ]
     },
     "execution_count": 43,
     "metadata": {},
     "output_type": "execute_result"
    }
   ],
   "source": [
    "re.findall(r'..at', 'The cat in the hat sat splat')"
   ]
  },
  {
   "cell_type": "code",
   "execution_count": 44,
   "id": "e24bac68",
   "metadata": {},
   "outputs": [
    {
     "data": {
      "text/plain": [
       "['e cat', 'e hat', 'splat']"
      ]
     },
     "execution_count": 44,
     "metadata": {},
     "output_type": "execute_result"
    }
   ],
   "source": [
    "re.findall(r'...at', 'The cat in the hat sat splat')"
   ]
  },
  {
   "cell_type": "code",
   "execution_count": 47,
   "id": "7744f6c7",
   "metadata": {},
   "outputs": [
    {
     "data": {
      "text/plain": [
       "['1']"
      ]
     },
     "execution_count": 47,
     "metadata": {},
     "output_type": "execute_result"
    }
   ],
   "source": [
    "# ^ SYMBOLISES STARTS WITH\n",
    "re.findall(r'^\\d','1 person')"
   ]
  },
  {
   "cell_type": "code",
   "execution_count": 46,
   "id": "f39b97bb",
   "metadata": {
    "scrolled": true
   },
   "outputs": [
    {
     "data": {
      "text/plain": [
       "[]"
      ]
     },
     "execution_count": 46,
     "metadata": {},
     "output_type": "execute_result"
    }
   ],
   "source": [
    "re.findall(r'^\\d','person 1')"
   ]
  },
  {
   "cell_type": "code",
   "execution_count": 48,
   "id": "a8647551",
   "metadata": {},
   "outputs": [
    {
     "data": {
      "text/plain": [
       "['person ']"
      ]
     },
     "execution_count": 48,
     "metadata": {},
     "output_type": "execute_result"
    }
   ],
   "source": [
    "re.findall(r'[^\\d]+','person 1')"
   ]
  },
  {
   "cell_type": "code",
   "execution_count": 52,
   "id": "a741e5af",
   "metadata": {},
   "outputs": [
    {
     "data": {
      "text/plain": [
       "['aghast=horrified']"
      ]
     },
     "execution_count": 52,
     "metadata": {},
     "output_type": "execute_result"
    }
   ],
   "source": [
    "re.findall(r'[\\w]+=[\\w]+','aghast=horrified')"
   ]
  },
  {
   "cell_type": "code",
   "execution_count": null,
   "id": "5ba03690",
   "metadata": {},
   "outputs": [],
   "source": []
  }
 ],
 "metadata": {
  "kernelspec": {
   "display_name": "Python 3 (ipykernel)",
   "language": "python",
   "name": "python3"
  },
  "language_info": {
   "codemirror_mode": {
    "name": "ipython",
    "version": 3
   },
   "file_extension": ".py",
   "mimetype": "text/x-python",
   "name": "python",
   "nbconvert_exporter": "python",
   "pygments_lexer": "ipython3",
   "version": "3.8.8"
  }
 },
 "nbformat": 4,
 "nbformat_minor": 5
}
