{
 "cells": [
  {
   "cell_type": "code",
   "execution_count": 1,
   "id": "660b6a43",
   "metadata": {},
   "outputs": [],
   "source": [
    "import pandas as pd"
   ]
  },
  {
   "cell_type": "code",
   "execution_count": 3,
   "id": "815c029f",
   "metadata": {},
   "outputs": [],
   "source": [
    "df = pd.read_excel('test data.xlsx')"
   ]
  },
  {
   "cell_type": "code",
   "execution_count": 4,
   "id": "902444e8",
   "metadata": {},
   "outputs": [
    {
     "data": {
      "text/html": [
       "<div>\n",
       "<style scoped>\n",
       "    .dataframe tbody tr th:only-of-type {\n",
       "        vertical-align: middle;\n",
       "    }\n",
       "\n",
       "    .dataframe tbody tr th {\n",
       "        vertical-align: top;\n",
       "    }\n",
       "\n",
       "    .dataframe thead th {\n",
       "        text-align: right;\n",
       "    }\n",
       "</style>\n",
       "<table border=\"1\" class=\"dataframe\">\n",
       "  <thead>\n",
       "    <tr style=\"text-align: right;\">\n",
       "      <th></th>\n",
       "      <th>Review</th>\n",
       "      <th>date</th>\n",
       "      <th>Location</th>\n",
       "      <th>Unnamed: 3</th>\n",
       "    </tr>\n",
       "  </thead>\n",
       "  <tbody>\n",
       "    <tr>\n",
       "      <th>0</th>\n",
       "      <td>I was very impressed with the resort.\\n Great ...</td>\n",
       "      <td>2019-08-20</td>\n",
       "      <td>Sebastian</td>\n",
       "      <td>NaN</td>\n",
       "    </tr>\n",
       "    <tr>\n",
       "      <th>1</th>\n",
       "      <td>The rooms were nice the outside needs work als...</td>\n",
       "      <td>2019-08-20</td>\n",
       "      <td>Los Angeles</td>\n",
       "      <td>NaN</td>\n",
       "    </tr>\n",
       "    <tr>\n",
       "      <th>2</th>\n",
       "      <td>Great location! I have stayed at this hotel on...</td>\n",
       "      <td>2019-08-20</td>\n",
       "      <td>Georgia</td>\n",
       "      <td>NaN</td>\n",
       "    </tr>\n",
       "    <tr>\n",
       "      <th>3</th>\n",
       "      <td>The hotel was adequate for my stay. The strips...</td>\n",
       "      <td>2019-08-20</td>\n",
       "      <td>NaN</td>\n",
       "      <td>NaN</td>\n",
       "    </tr>\n",
       "    <tr>\n",
       "      <th>4</th>\n",
       "      <td>Great location, room was large and spacious. P...</td>\n",
       "      <td>2019-08-19</td>\n",
       "      <td>Palm Harbor</td>\n",
       "      <td>NaN</td>\n",
       "    </tr>\n",
       "    <tr>\n",
       "      <th>...</th>\n",
       "      <td>...</td>\n",
       "      <td>...</td>\n",
       "      <td>...</td>\n",
       "      <td>...</td>\n",
       "    </tr>\n",
       "    <tr>\n",
       "      <th>6443</th>\n",
       "      <td>·the staff were all so friendly. frank, the ch...</td>\n",
       "      <td>2019-07-12</td>\n",
       "      <td>United States of America</td>\n",
       "      <td>NaN</td>\n",
       "    </tr>\n",
       "    <tr>\n",
       "      <th>6444</th>\n",
       "      <td>·the internet barely worked or didn't work</td>\n",
       "      <td>2019-07-12</td>\n",
       "      <td>United States of America</td>\n",
       "      <td>NaN</td>\n",
       "    </tr>\n",
       "    <tr>\n",
       "      <th>6445</th>\n",
       "      <td>·the location was great.\\n \\n \\n \\n \\n ·the be...</td>\n",
       "      <td>2019-07-10</td>\n",
       "      <td>United States of America</td>\n",
       "      <td>NaN</td>\n",
       "    </tr>\n",
       "    <tr>\n",
       "      <th>6446</th>\n",
       "      <td>·we were early for check in and the staff was ...</td>\n",
       "      <td>2019-07-10</td>\n",
       "      <td>United States of America</td>\n",
       "      <td>NaN</td>\n",
       "    </tr>\n",
       "    <tr>\n",
       "      <th>6447</th>\n",
       "      <td>·staff, free coffee, location and activities.\\...</td>\n",
       "      <td>2019-07-10</td>\n",
       "      <td>United States of America</td>\n",
       "      <td>NaN</td>\n",
       "    </tr>\n",
       "  </tbody>\n",
       "</table>\n",
       "<p>6448 rows × 4 columns</p>\n",
       "</div>"
      ],
      "text/plain": [
       "                                                 Review       date  \\\n",
       "0     I was very impressed with the resort.\\n Great ... 2019-08-20   \n",
       "1     The rooms were nice the outside needs work als... 2019-08-20   \n",
       "2     Great location! I have stayed at this hotel on... 2019-08-20   \n",
       "3     The hotel was adequate for my stay. The strips... 2019-08-20   \n",
       "4     Great location, room was large and spacious. P... 2019-08-19   \n",
       "...                                                 ...        ...   \n",
       "6443  ·the staff were all so friendly. frank, the ch... 2019-07-12   \n",
       "6444         ·the internet barely worked or didn't work 2019-07-12   \n",
       "6445  ·the location was great.\\n \\n \\n \\n \\n ·the be... 2019-07-10   \n",
       "6446  ·we were early for check in and the staff was ... 2019-07-10   \n",
       "6447  ·staff, free coffee, location and activities.\\... 2019-07-10   \n",
       "\n",
       "                      Location  Unnamed: 3  \n",
       "0                    Sebastian         NaN  \n",
       "1                  Los Angeles         NaN  \n",
       "2                      Georgia         NaN  \n",
       "3                          NaN         NaN  \n",
       "4                  Palm Harbor         NaN  \n",
       "...                        ...         ...  \n",
       "6443  United States of America         NaN  \n",
       "6444  United States of America         NaN  \n",
       "6445  United States of America         NaN  \n",
       "6446  United States of America         NaN  \n",
       "6447  United States of America         NaN  \n",
       "\n",
       "[6448 rows x 4 columns]"
      ]
     },
     "execution_count": 4,
     "metadata": {},
     "output_type": "execute_result"
    }
   ],
   "source": [
    "df"
   ]
  },
  {
   "cell_type": "code",
   "execution_count": 6,
   "id": "39df01ed",
   "metadata": {},
   "outputs": [
    {
     "data": {
      "text/plain": [
       "Index(['Review', 'date', 'Location', 'Unnamed: 3'], dtype='object')"
      ]
     },
     "execution_count": 6,
     "metadata": {},
     "output_type": "execute_result"
    }
   ],
   "source": [
    "df.columns"
   ]
  },
  {
   "cell_type": "code",
   "execution_count": 7,
   "id": "e0cf7c05",
   "metadata": {},
   "outputs": [],
   "source": [
    "df.drop(\"Unnamed: 3\",axis=1,inplace=True)"
   ]
  },
  {
   "cell_type": "code",
   "execution_count": 8,
   "id": "378bd45b",
   "metadata": {},
   "outputs": [
    {
     "data": {
      "text/html": [
       "<div>\n",
       "<style scoped>\n",
       "    .dataframe tbody tr th:only-of-type {\n",
       "        vertical-align: middle;\n",
       "    }\n",
       "\n",
       "    .dataframe tbody tr th {\n",
       "        vertical-align: top;\n",
       "    }\n",
       "\n",
       "    .dataframe thead th {\n",
       "        text-align: right;\n",
       "    }\n",
       "</style>\n",
       "<table border=\"1\" class=\"dataframe\">\n",
       "  <thead>\n",
       "    <tr style=\"text-align: right;\">\n",
       "      <th></th>\n",
       "      <th>Review</th>\n",
       "      <th>date</th>\n",
       "      <th>Location</th>\n",
       "    </tr>\n",
       "  </thead>\n",
       "  <tbody>\n",
       "    <tr>\n",
       "      <th>0</th>\n",
       "      <td>I was very impressed with the resort.\\n Great ...</td>\n",
       "      <td>2019-08-20</td>\n",
       "      <td>Sebastian</td>\n",
       "    </tr>\n",
       "    <tr>\n",
       "      <th>1</th>\n",
       "      <td>The rooms were nice the outside needs work als...</td>\n",
       "      <td>2019-08-20</td>\n",
       "      <td>Los Angeles</td>\n",
       "    </tr>\n",
       "    <tr>\n",
       "      <th>2</th>\n",
       "      <td>Great location! I have stayed at this hotel on...</td>\n",
       "      <td>2019-08-20</td>\n",
       "      <td>Georgia</td>\n",
       "    </tr>\n",
       "    <tr>\n",
       "      <th>3</th>\n",
       "      <td>The hotel was adequate for my stay. The strips...</td>\n",
       "      <td>2019-08-20</td>\n",
       "      <td>NaN</td>\n",
       "    </tr>\n",
       "    <tr>\n",
       "      <th>4</th>\n",
       "      <td>Great location, room was large and spacious. P...</td>\n",
       "      <td>2019-08-19</td>\n",
       "      <td>Palm Harbor</td>\n",
       "    </tr>\n",
       "    <tr>\n",
       "      <th>...</th>\n",
       "      <td>...</td>\n",
       "      <td>...</td>\n",
       "      <td>...</td>\n",
       "    </tr>\n",
       "    <tr>\n",
       "      <th>6443</th>\n",
       "      <td>·the staff were all so friendly. frank, the ch...</td>\n",
       "      <td>2019-07-12</td>\n",
       "      <td>United States of America</td>\n",
       "    </tr>\n",
       "    <tr>\n",
       "      <th>6444</th>\n",
       "      <td>·the internet barely worked or didn't work</td>\n",
       "      <td>2019-07-12</td>\n",
       "      <td>United States of America</td>\n",
       "    </tr>\n",
       "    <tr>\n",
       "      <th>6445</th>\n",
       "      <td>·the location was great.\\n \\n \\n \\n \\n ·the be...</td>\n",
       "      <td>2019-07-10</td>\n",
       "      <td>United States of America</td>\n",
       "    </tr>\n",
       "    <tr>\n",
       "      <th>6446</th>\n",
       "      <td>·we were early for check in and the staff was ...</td>\n",
       "      <td>2019-07-10</td>\n",
       "      <td>United States of America</td>\n",
       "    </tr>\n",
       "    <tr>\n",
       "      <th>6447</th>\n",
       "      <td>·staff, free coffee, location and activities.\\...</td>\n",
       "      <td>2019-07-10</td>\n",
       "      <td>United States of America</td>\n",
       "    </tr>\n",
       "  </tbody>\n",
       "</table>\n",
       "<p>6448 rows × 3 columns</p>\n",
       "</div>"
      ],
      "text/plain": [
       "                                                 Review       date  \\\n",
       "0     I was very impressed with the resort.\\n Great ... 2019-08-20   \n",
       "1     The rooms were nice the outside needs work als... 2019-08-20   \n",
       "2     Great location! I have stayed at this hotel on... 2019-08-20   \n",
       "3     The hotel was adequate for my stay. The strips... 2019-08-20   \n",
       "4     Great location, room was large and spacious. P... 2019-08-19   \n",
       "...                                                 ...        ...   \n",
       "6443  ·the staff were all so friendly. frank, the ch... 2019-07-12   \n",
       "6444         ·the internet barely worked or didn't work 2019-07-12   \n",
       "6445  ·the location was great.\\n \\n \\n \\n \\n ·the be... 2019-07-10   \n",
       "6446  ·we were early for check in and the staff was ... 2019-07-10   \n",
       "6447  ·staff, free coffee, location and activities.\\... 2019-07-10   \n",
       "\n",
       "                      Location  \n",
       "0                    Sebastian  \n",
       "1                  Los Angeles  \n",
       "2                      Georgia  \n",
       "3                          NaN  \n",
       "4                  Palm Harbor  \n",
       "...                        ...  \n",
       "6443  United States of America  \n",
       "6444  United States of America  \n",
       "6445  United States of America  \n",
       "6446  United States of America  \n",
       "6447  United States of America  \n",
       "\n",
       "[6448 rows x 3 columns]"
      ]
     },
     "execution_count": 8,
     "metadata": {},
     "output_type": "execute_result"
    }
   ],
   "source": [
    "df"
   ]
  },
  {
   "cell_type": "code",
   "execution_count": 13,
   "id": "81996514",
   "metadata": {},
   "outputs": [],
   "source": [
    "obj=df.groupby('Location')"
   ]
  },
  {
   "cell_type": "code",
   "execution_count": 14,
   "id": "3a6d4e94",
   "metadata": {},
   "outputs": [
    {
     "data": {
      "text/plain": [
       "<pandas.core.groupby.generic.DataFrameGroupBy object at 0x7f936e973790>"
      ]
     },
     "execution_count": 14,
     "metadata": {},
     "output_type": "execute_result"
    }
   ],
   "source": [
    "obj"
   ]
  },
  {
   "cell_type": "code",
   "execution_count": 19,
   "id": "f64a8127",
   "metadata": {},
   "outputs": [],
   "source": [
    "import spacy\n",
    "from spacytextblob.spacytextblob import SpacyTextBlob\n",
    "import pandas as pd\n",
    "from bs4 import BeautifulSoup\n",
    "import requests"
   ]
  },
  {
   "cell_type": "code",
   "execution_count": 17,
   "id": "57e9a159",
   "metadata": {},
   "outputs": [
    {
     "name": "stdout",
     "output_type": "stream",
     "text": [
      "Collecting spacytextblob\n",
      "  Downloading spacytextblob-4.0.0-py3-none-any.whl (4.5 kB)\n",
      "Requirement already satisfied: textblob<0.16.0,>=0.15.3 in ./anaconda3/lib/python3.8/site-packages (from spacytextblob) (0.15.3)\n",
      "Requirement already satisfied: spacy<4.0,>=3.0 in ./anaconda3/lib/python3.8/site-packages (from spacytextblob) (3.1.3)\n",
      "Requirement already satisfied: pathy>=0.3.5 in ./anaconda3/lib/python3.8/site-packages (from spacy<4.0,>=3.0->spacytextblob) (0.6.0)\n",
      "Requirement already satisfied: tqdm<5.0.0,>=4.38.0 in ./anaconda3/lib/python3.8/site-packages (from spacy<4.0,>=3.0->spacytextblob) (4.59.0)\n",
      "Requirement already satisfied: setuptools in ./anaconda3/lib/python3.8/site-packages (from spacy<4.0,>=3.0->spacytextblob) (52.0.0.post20210125)\n",
      "Requirement already satisfied: srsly<3.0.0,>=2.4.1 in ./anaconda3/lib/python3.8/site-packages (from spacy<4.0,>=3.0->spacytextblob) (2.4.1)\n",
      "Requirement already satisfied: catalogue<2.1.0,>=2.0.6 in ./anaconda3/lib/python3.8/site-packages (from spacy<4.0,>=3.0->spacytextblob) (2.0.6)\n",
      "Requirement already satisfied: requests<3.0.0,>=2.13.0 in ./anaconda3/lib/python3.8/site-packages (from spacy<4.0,>=3.0->spacytextblob) (2.27.1)\n",
      "Requirement already satisfied: murmurhash<1.1.0,>=0.28.0 in ./anaconda3/lib/python3.8/site-packages (from spacy<4.0,>=3.0->spacytextblob) (1.0.5)\n",
      "Requirement already satisfied: wasabi<1.1.0,>=0.8.1 in ./anaconda3/lib/python3.8/site-packages (from spacy<4.0,>=3.0->spacytextblob) (0.8.2)\n",
      "Requirement already satisfied: blis<0.8.0,>=0.4.0 in ./anaconda3/lib/python3.8/site-packages (from spacy<4.0,>=3.0->spacytextblob) (0.7.4)\n",
      "Requirement already satisfied: cymem<2.1.0,>=2.0.2 in ./anaconda3/lib/python3.8/site-packages (from spacy<4.0,>=3.0->spacytextblob) (2.0.5)\n",
      "Requirement already satisfied: packaging>=20.0 in ./anaconda3/lib/python3.8/site-packages (from spacy<4.0,>=3.0->spacytextblob) (20.9)\n",
      "Requirement already satisfied: numpy>=1.15.0 in ./anaconda3/lib/python3.8/site-packages (from spacy<4.0,>=3.0->spacytextblob) (1.19.5)\n",
      "Requirement already satisfied: typer<0.5.0,>=0.3.0 in ./anaconda3/lib/python3.8/site-packages (from spacy<4.0,>=3.0->spacytextblob) (0.4.0)\n",
      "Requirement already satisfied: jinja2 in ./anaconda3/lib/python3.8/site-packages (from spacy<4.0,>=3.0->spacytextblob) (2.11.3)\n",
      "Requirement already satisfied: preshed<3.1.0,>=3.0.2 in ./anaconda3/lib/python3.8/site-packages (from spacy<4.0,>=3.0->spacytextblob) (3.0.5)\n",
      "Requirement already satisfied: pydantic!=1.8,!=1.8.1,<1.9.0,>=1.7.4 in ./anaconda3/lib/python3.8/site-packages (from spacy<4.0,>=3.0->spacytextblob) (1.8.2)\n",
      "Requirement already satisfied: thinc<8.1.0,>=8.0.9 in ./anaconda3/lib/python3.8/site-packages (from spacy<4.0,>=3.0->spacytextblob) (8.0.10)\n",
      "Requirement already satisfied: spacy-legacy<3.1.0,>=3.0.8 in ./anaconda3/lib/python3.8/site-packages (from spacy<4.0,>=3.0->spacytextblob) (3.0.8)\n",
      "Requirement already satisfied: nltk>=3.1 in ./anaconda3/lib/python3.8/site-packages (from textblob<0.16.0,>=0.15.3->spacytextblob) (3.6.1)\n",
      "Requirement already satisfied: regex in ./anaconda3/lib/python3.8/site-packages (from nltk>=3.1->textblob<0.16.0,>=0.15.3->spacytextblob) (2021.4.4)\n",
      "Requirement already satisfied: click in ./anaconda3/lib/python3.8/site-packages (from nltk>=3.1->textblob<0.16.0,>=0.15.3->spacytextblob) (7.1.2)\n",
      "Requirement already satisfied: joblib in ./anaconda3/lib/python3.8/site-packages (from nltk>=3.1->textblob<0.16.0,>=0.15.3->spacytextblob) (1.0.1)\n",
      "Requirement already satisfied: pyparsing>=2.0.2 in ./anaconda3/lib/python3.8/site-packages (from packaging>=20.0->spacy<4.0,>=3.0->spacytextblob) (2.4.7)\n",
      "Requirement already satisfied: smart-open<6.0.0,>=5.0.0 in ./anaconda3/lib/python3.8/site-packages (from pathy>=0.3.5->spacy<4.0,>=3.0->spacytextblob) (5.2.1)\n",
      "Requirement already satisfied: typing-extensions>=3.7.4.3 in ./anaconda3/lib/python3.8/site-packages (from pydantic!=1.8,!=1.8.1,<1.9.0,>=1.7.4->spacy<4.0,>=3.0->spacytextblob) (3.7.4.3)\n",
      "Requirement already satisfied: urllib3<1.27,>=1.21.1 in ./anaconda3/lib/python3.8/site-packages (from requests<3.0.0,>=2.13.0->spacy<4.0,>=3.0->spacytextblob) (1.26.9)\n",
      "Requirement already satisfied: idna<4,>=2.5 in ./anaconda3/lib/python3.8/site-packages (from requests<3.0.0,>=2.13.0->spacy<4.0,>=3.0->spacytextblob) (2.8)\n",
      "Requirement already satisfied: charset-normalizer~=2.0.0 in ./anaconda3/lib/python3.8/site-packages (from requests<3.0.0,>=2.13.0->spacy<4.0,>=3.0->spacytextblob) (2.0.11)\n",
      "Requirement already satisfied: certifi>=2017.4.17 in ./anaconda3/lib/python3.8/site-packages (from requests<3.0.0,>=2.13.0->spacy<4.0,>=3.0->spacytextblob) (2021.10.8)\n",
      "Requirement already satisfied: MarkupSafe>=0.23 in ./anaconda3/lib/python3.8/site-packages (from jinja2->spacy<4.0,>=3.0->spacytextblob) (1.1.1)\n",
      "Installing collected packages: spacytextblob\n",
      "Successfully installed spacytextblob-4.0.0\n"
     ]
    }
   ],
   "source": [
    "!pip3 install spacytextblob"
   ]
  },
  {
   "cell_type": "code",
   "execution_count": 20,
   "id": "65df274a",
   "metadata": {},
   "outputs": [
    {
     "data": {
      "text/plain": [
       "<spacytextblob.spacytextblob.SpacyTextBlob at 0x7f935e424df0>"
      ]
     },
     "execution_count": 20,
     "metadata": {},
     "output_type": "execute_result"
    }
   ],
   "source": [
    "nlp = spacy.load('en_core_web_sm')\n",
    "nlp.add_pipe('spacytextblob')"
   ]
  },
  {
   "cell_type": "code",
   "execution_count": 36,
   "id": "34c74e99",
   "metadata": {},
   "outputs": [],
   "source": [
    "score = []\n",
    "label_ = []"
   ]
  },
  {
   "cell_type": "code",
   "execution_count": 37,
   "id": "c2521918",
   "metadata": {},
   "outputs": [],
   "source": [
    "for i in df['Review']:\n",
    "    i= str(i).replace('\\n','')\n",
    "    doc = nlp(i)\n",
    "    \n",
    "    sentiment = doc._.blob.polarity\n",
    "    sentiment = round(sentiment,2)\n",
    "\n",
    "    if sentiment > 0:\n",
    "        label = \"Positive\"\n",
    "    else:\n",
    "        label = \"Negative\"\n",
    "\n",
    "    label_.append(label)\n",
    "    score.append(sentiment)\n"
   ]
  },
  {
   "cell_type": "code",
   "execution_count": 39,
   "id": "aa22b5ef",
   "metadata": {},
   "outputs": [],
   "source": [
    "df[\"Sentiment Score\"] = score\n",
    "df[\"Sentiment Label\"] = label_"
   ]
  },
  {
   "cell_type": "code",
   "execution_count": 38,
   "id": "3122b8dd",
   "metadata": {},
   "outputs": [
    {
     "data": {
      "text/plain": [
       "6448"
      ]
     },
     "execution_count": 38,
     "metadata": {},
     "output_type": "execute_result"
    }
   ],
   "source": [
    "len(score)"
   ]
  },
  {
   "cell_type": "code",
   "execution_count": 40,
   "id": "112c598e",
   "metadata": {},
   "outputs": [
    {
     "data": {
      "text/html": [
       "<div>\n",
       "<style scoped>\n",
       "    .dataframe tbody tr th:only-of-type {\n",
       "        vertical-align: middle;\n",
       "    }\n",
       "\n",
       "    .dataframe tbody tr th {\n",
       "        vertical-align: top;\n",
       "    }\n",
       "\n",
       "    .dataframe thead th {\n",
       "        text-align: right;\n",
       "    }\n",
       "</style>\n",
       "<table border=\"1\" class=\"dataframe\">\n",
       "  <thead>\n",
       "    <tr style=\"text-align: right;\">\n",
       "      <th></th>\n",
       "      <th>Review</th>\n",
       "      <th>date</th>\n",
       "      <th>Location</th>\n",
       "      <th>Sentiment Score</th>\n",
       "      <th>Sentiment Label</th>\n",
       "    </tr>\n",
       "  </thead>\n",
       "  <tbody>\n",
       "    <tr>\n",
       "      <th>0</th>\n",
       "      <td>I was very impressed with the resort.\\n Great ...</td>\n",
       "      <td>2019-08-20</td>\n",
       "      <td>Sebastian</td>\n",
       "      <td>0.44</td>\n",
       "      <td>Positive</td>\n",
       "    </tr>\n",
       "    <tr>\n",
       "      <th>1</th>\n",
       "      <td>The rooms were nice the outside needs work als...</td>\n",
       "      <td>2019-08-20</td>\n",
       "      <td>Los Angeles</td>\n",
       "      <td>0.23</td>\n",
       "      <td>Positive</td>\n",
       "    </tr>\n",
       "    <tr>\n",
       "      <th>2</th>\n",
       "      <td>Great location! I have stayed at this hotel on...</td>\n",
       "      <td>2019-08-20</td>\n",
       "      <td>Georgia</td>\n",
       "      <td>0.29</td>\n",
       "      <td>Positive</td>\n",
       "    </tr>\n",
       "    <tr>\n",
       "      <th>3</th>\n",
       "      <td>The hotel was adequate for my stay. The strips...</td>\n",
       "      <td>2019-08-20</td>\n",
       "      <td>NaN</td>\n",
       "      <td>0.12</td>\n",
       "      <td>Positive</td>\n",
       "    </tr>\n",
       "    <tr>\n",
       "      <th>4</th>\n",
       "      <td>Great location, room was large and spacious. P...</td>\n",
       "      <td>2019-08-19</td>\n",
       "      <td>Palm Harbor</td>\n",
       "      <td>0.34</td>\n",
       "      <td>Positive</td>\n",
       "    </tr>\n",
       "    <tr>\n",
       "      <th>...</th>\n",
       "      <td>...</td>\n",
       "      <td>...</td>\n",
       "      <td>...</td>\n",
       "      <td>...</td>\n",
       "      <td>...</td>\n",
       "    </tr>\n",
       "    <tr>\n",
       "      <th>6443</th>\n",
       "      <td>·the staff were all so friendly. frank, the ch...</td>\n",
       "      <td>2019-07-12</td>\n",
       "      <td>United States of America</td>\n",
       "      <td>0.20</td>\n",
       "      <td>Positive</td>\n",
       "    </tr>\n",
       "    <tr>\n",
       "      <th>6444</th>\n",
       "      <td>·the internet barely worked or didn't work</td>\n",
       "      <td>2019-07-12</td>\n",
       "      <td>United States of America</td>\n",
       "      <td>0.05</td>\n",
       "      <td>Positive</td>\n",
       "    </tr>\n",
       "    <tr>\n",
       "      <th>6445</th>\n",
       "      <td>·the location was great.\\n \\n \\n \\n \\n ·the be...</td>\n",
       "      <td>2019-07-10</td>\n",
       "      <td>United States of America</td>\n",
       "      <td>0.27</td>\n",
       "      <td>Positive</td>\n",
       "    </tr>\n",
       "    <tr>\n",
       "      <th>6446</th>\n",
       "      <td>·we were early for check in and the staff was ...</td>\n",
       "      <td>2019-07-10</td>\n",
       "      <td>United States of America</td>\n",
       "      <td>0.20</td>\n",
       "      <td>Positive</td>\n",
       "    </tr>\n",
       "    <tr>\n",
       "      <th>6447</th>\n",
       "      <td>·staff, free coffee, location and activities.\\...</td>\n",
       "      <td>2019-07-10</td>\n",
       "      <td>United States of America</td>\n",
       "      <td>0.08</td>\n",
       "      <td>Positive</td>\n",
       "    </tr>\n",
       "  </tbody>\n",
       "</table>\n",
       "<p>6448 rows × 5 columns</p>\n",
       "</div>"
      ],
      "text/plain": [
       "                                                 Review       date  \\\n",
       "0     I was very impressed with the resort.\\n Great ... 2019-08-20   \n",
       "1     The rooms were nice the outside needs work als... 2019-08-20   \n",
       "2     Great location! I have stayed at this hotel on... 2019-08-20   \n",
       "3     The hotel was adequate for my stay. The strips... 2019-08-20   \n",
       "4     Great location, room was large and spacious. P... 2019-08-19   \n",
       "...                                                 ...        ...   \n",
       "6443  ·the staff were all so friendly. frank, the ch... 2019-07-12   \n",
       "6444         ·the internet barely worked or didn't work 2019-07-12   \n",
       "6445  ·the location was great.\\n \\n \\n \\n \\n ·the be... 2019-07-10   \n",
       "6446  ·we were early for check in and the staff was ... 2019-07-10   \n",
       "6447  ·staff, free coffee, location and activities.\\... 2019-07-10   \n",
       "\n",
       "                      Location  Sentiment Score Sentiment Label  \n",
       "0                    Sebastian             0.44        Positive  \n",
       "1                  Los Angeles             0.23        Positive  \n",
       "2                      Georgia             0.29        Positive  \n",
       "3                          NaN             0.12        Positive  \n",
       "4                  Palm Harbor             0.34        Positive  \n",
       "...                        ...              ...             ...  \n",
       "6443  United States of America             0.20        Positive  \n",
       "6444  United States of America             0.05        Positive  \n",
       "6445  United States of America             0.27        Positive  \n",
       "6446  United States of America             0.20        Positive  \n",
       "6447  United States of America             0.08        Positive  \n",
       "\n",
       "[6448 rows x 5 columns]"
      ]
     },
     "execution_count": 40,
     "metadata": {},
     "output_type": "execute_result"
    }
   ],
   "source": [
    "df"
   ]
  },
  {
   "cell_type": "code",
   "execution_count": 51,
   "id": "20378687",
   "metadata": {},
   "outputs": [
    {
     "data": {
      "text/plain": [
       "Location\n",
       "United States of America    116\n",
       "New York                     34\n",
       "California                   19\n",
       "San Jose                     19\n",
       "Canada                       16\n",
       "                           ... \n",
       "Manhattan                     1\n",
       "Manhattan, NY                 1\n",
       "Mansfield, Texas              1\n",
       "Margate Florida               1\n",
       "2186                          1\n",
       "Name: Sentiment Label, Length: 1082, dtype: int64"
      ]
     },
     "execution_count": 51,
     "metadata": {},
     "output_type": "execute_result"
    }
   ],
   "source": [
    "df.groupby('Location')['Sentiment Label'].count().sort_values(ascending = False)"
   ]
  },
  {
   "cell_type": "code",
   "execution_count": 43,
   "id": "1c2d185c",
   "metadata": {},
   "outputs": [
    {
     "data": {
      "text/plain": [
       "Positive    5601\n",
       "Negative     847\n",
       "Name: Sentiment Label, dtype: int64"
      ]
     },
     "execution_count": 43,
     "metadata": {},
     "output_type": "execute_result"
    }
   ],
   "source": [
    "df['Sentiment Label'].value_counts()"
   ]
  },
  {
   "cell_type": "code",
   "execution_count": 44,
   "id": "32aa91bc",
   "metadata": {},
   "outputs": [
    {
     "data": {
      "text/plain": [
       "13.135856079404467"
      ]
     },
     "execution_count": 44,
     "metadata": {},
     "output_type": "execute_result"
    }
   ],
   "source": [
    "847/6448 * 100"
   ]
  },
  {
   "cell_type": "code",
   "execution_count": 46,
   "id": "0fb1badf",
   "metadata": {},
   "outputs": [
    {
     "data": {
      "text/plain": [
       "array(['Sebastian', 'Los Angeles', 'Georgia', ..., 'India', 'Malaysia',\n",
       "       'Trinidad and Tobago'], dtype=object)"
      ]
     },
     "execution_count": 46,
     "metadata": {},
     "output_type": "execute_result"
    }
   ],
   "source": [
    "df['Location'].unique()"
   ]
  },
  {
   "cell_type": "code",
   "execution_count": 55,
   "id": "32dd243c",
   "metadata": {},
   "outputs": [
    {
     "data": {
      "text/html": [
       "<div>\n",
       "<style scoped>\n",
       "    .dataframe tbody tr th:only-of-type {\n",
       "        vertical-align: middle;\n",
       "    }\n",
       "\n",
       "    .dataframe tbody tr th {\n",
       "        vertical-align: top;\n",
       "    }\n",
       "\n",
       "    .dataframe thead th {\n",
       "        text-align: right;\n",
       "    }\n",
       "</style>\n",
       "<table border=\"1\" class=\"dataframe\">\n",
       "  <thead>\n",
       "    <tr style=\"text-align: right;\">\n",
       "      <th></th>\n",
       "      <th>Review</th>\n",
       "      <th>date</th>\n",
       "      <th>Location</th>\n",
       "      <th>Sentiment Score</th>\n",
       "      <th>Sentiment Label</th>\n",
       "    </tr>\n",
       "  </thead>\n",
       "  <tbody>\n",
       "    <tr>\n",
       "      <th>6271</th>\n",
       "      <td>·the location was excellent to td garden, as w...</td>\n",
       "      <td>2019-08-18</td>\n",
       "      <td>United States of America</td>\n",
       "      <td>0.58</td>\n",
       "      <td>Positive</td>\n",
       "    </tr>\n",
       "    <tr>\n",
       "      <th>6277</th>\n",
       "      <td>·no came too clean roon and no check bedroom</td>\n",
       "      <td>2019-08-18</td>\n",
       "      <td>United States of America</td>\n",
       "      <td>0.37</td>\n",
       "      <td>Positive</td>\n",
       "    </tr>\n",
       "    <tr>\n",
       "      <th>6279</th>\n",
       "      <td>·location\\n \\n \\n \\n \\n ·the parking fees were...</td>\n",
       "      <td>2019-08-17</td>\n",
       "      <td>United States of America</td>\n",
       "      <td>0.01</td>\n",
       "      <td>Positive</td>\n",
       "    </tr>\n",
       "    <tr>\n",
       "      <th>6280</th>\n",
       "      <td>·quiet rooms &amp; very friendly staff.</td>\n",
       "      <td>2019-08-17</td>\n",
       "      <td>United States of America</td>\n",
       "      <td>0.49</td>\n",
       "      <td>Positive</td>\n",
       "    </tr>\n",
       "    <tr>\n",
       "      <th>6283</th>\n",
       "      <td>·the wyndham grand is in the best location in ...</td>\n",
       "      <td>2019-08-16</td>\n",
       "      <td>United States of America</td>\n",
       "      <td>0.63</td>\n",
       "      <td>Positive</td>\n",
       "    </tr>\n",
       "    <tr>\n",
       "      <th>...</th>\n",
       "      <td>...</td>\n",
       "      <td>...</td>\n",
       "      <td>...</td>\n",
       "      <td>...</td>\n",
       "      <td>...</td>\n",
       "    </tr>\n",
       "    <tr>\n",
       "      <th>6443</th>\n",
       "      <td>·the staff were all so friendly. frank, the ch...</td>\n",
       "      <td>2019-07-12</td>\n",
       "      <td>United States of America</td>\n",
       "      <td>0.20</td>\n",
       "      <td>Positive</td>\n",
       "    </tr>\n",
       "    <tr>\n",
       "      <th>6444</th>\n",
       "      <td>·the internet barely worked or didn't work</td>\n",
       "      <td>2019-07-12</td>\n",
       "      <td>United States of America</td>\n",
       "      <td>0.05</td>\n",
       "      <td>Positive</td>\n",
       "    </tr>\n",
       "    <tr>\n",
       "      <th>6445</th>\n",
       "      <td>·the location was great.\\n \\n \\n \\n \\n ·the be...</td>\n",
       "      <td>2019-07-10</td>\n",
       "      <td>United States of America</td>\n",
       "      <td>0.27</td>\n",
       "      <td>Positive</td>\n",
       "    </tr>\n",
       "    <tr>\n",
       "      <th>6446</th>\n",
       "      <td>·we were early for check in and the staff was ...</td>\n",
       "      <td>2019-07-10</td>\n",
       "      <td>United States of America</td>\n",
       "      <td>0.20</td>\n",
       "      <td>Positive</td>\n",
       "    </tr>\n",
       "    <tr>\n",
       "      <th>6447</th>\n",
       "      <td>·staff, free coffee, location and activities.\\...</td>\n",
       "      <td>2019-07-10</td>\n",
       "      <td>United States of America</td>\n",
       "      <td>0.08</td>\n",
       "      <td>Positive</td>\n",
       "    </tr>\n",
       "  </tbody>\n",
       "</table>\n",
       "<p>75 rows × 5 columns</p>\n",
       "</div>"
      ],
      "text/plain": [
       "                                                 Review       date  \\\n",
       "6271  ·the location was excellent to td garden, as w... 2019-08-18   \n",
       "6277       ·no came too clean roon and no check bedroom 2019-08-18   \n",
       "6279  ·location\\n \\n \\n \\n \\n ·the parking fees were... 2019-08-17   \n",
       "6280                ·quiet rooms & very friendly staff. 2019-08-17   \n",
       "6283  ·the wyndham grand is in the best location in ... 2019-08-16   \n",
       "...                                                 ...        ...   \n",
       "6443  ·the staff were all so friendly. frank, the ch... 2019-07-12   \n",
       "6444         ·the internet barely worked or didn't work 2019-07-12   \n",
       "6445  ·the location was great.\\n \\n \\n \\n \\n ·the be... 2019-07-10   \n",
       "6446  ·we were early for check in and the staff was ... 2019-07-10   \n",
       "6447  ·staff, free coffee, location and activities.\\... 2019-07-10   \n",
       "\n",
       "                      Location  Sentiment Score Sentiment Label  \n",
       "6271  United States of America             0.58        Positive  \n",
       "6277  United States of America             0.37        Positive  \n",
       "6279  United States of America             0.01        Positive  \n",
       "6280  United States of America             0.49        Positive  \n",
       "6283  United States of America             0.63        Positive  \n",
       "...                        ...              ...             ...  \n",
       "6443  United States of America             0.20        Positive  \n",
       "6444  United States of America             0.05        Positive  \n",
       "6445  United States of America             0.27        Positive  \n",
       "6446  United States of America             0.20        Positive  \n",
       "6447  United States of America             0.08        Positive  \n",
       "\n",
       "[75 rows x 5 columns]"
      ]
     },
     "execution_count": 55,
     "metadata": {},
     "output_type": "execute_result"
    }
   ],
   "source": [
    "df[(df['Location'] =='United States of America') & (df['Sentiment Label'] =='Positive') ]"
   ]
  },
  {
   "cell_type": "code",
   "execution_count": 57,
   "id": "cb98b3de",
   "metadata": {},
   "outputs": [
    {
     "data": {
      "text/plain": [
       "1083"
      ]
     },
     "execution_count": 57,
     "metadata": {},
     "output_type": "execute_result"
    }
   ],
   "source": [
    "len(df['Location'].unique())"
   ]
  },
  {
   "cell_type": "code",
   "execution_count": null,
   "id": "c1d86dcd",
   "metadata": {},
   "outputs": [],
   "source": []
  }
 ],
 "metadata": {
  "kernelspec": {
   "display_name": "Python 3 (ipykernel)",
   "language": "python",
   "name": "python3"
  },
  "language_info": {
   "codemirror_mode": {
    "name": "ipython",
    "version": 3
   },
   "file_extension": ".py",
   "mimetype": "text/x-python",
   "name": "python",
   "nbconvert_exporter": "python",
   "pygments_lexer": "ipython3",
   "version": "3.8.8"
  }
 },
 "nbformat": 4,
 "nbformat_minor": 5
}
