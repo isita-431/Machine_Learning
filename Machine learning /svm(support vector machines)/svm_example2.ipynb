{
 "cells": [
  {
   "cell_type": "markdown",
   "id": "05b45eb7",
   "metadata": {},
   "source": [
    "import libraries"
   ]
  },
  {
   "cell_type": "code",
   "execution_count": 1,
   "id": "5edc6aea",
   "metadata": {},
   "outputs": [],
   "source": [
    "import numpy as np\n",
    "import seaborn as sns\n",
    "import matplotlib.pyplot as plt\n",
    "import pandas as pd"
   ]
  },
  {
   "cell_type": "code",
   "execution_count": 2,
   "id": "68d81d23",
   "metadata": {},
   "outputs": [],
   "source": [
    "df= pd.read_csv('cement_slump.csv')"
   ]
  },
  {
   "cell_type": "code",
   "execution_count": 3,
   "id": "7affc3e8",
   "metadata": {},
   "outputs": [
    {
     "data": {
      "text/html": [
       "<div>\n",
       "<style scoped>\n",
       "    .dataframe tbody tr th:only-of-type {\n",
       "        vertical-align: middle;\n",
       "    }\n",
       "\n",
       "    .dataframe tbody tr th {\n",
       "        vertical-align: top;\n",
       "    }\n",
       "\n",
       "    .dataframe thead th {\n",
       "        text-align: right;\n",
       "    }\n",
       "</style>\n",
       "<table border=\"1\" class=\"dataframe\">\n",
       "  <thead>\n",
       "    <tr style=\"text-align: right;\">\n",
       "      <th></th>\n",
       "      <th>Cement</th>\n",
       "      <th>Slag</th>\n",
       "      <th>Fly ash</th>\n",
       "      <th>Water</th>\n",
       "      <th>SP</th>\n",
       "      <th>Coarse Aggr.</th>\n",
       "      <th>Fine Aggr.</th>\n",
       "      <th>SLUMP(cm)</th>\n",
       "      <th>FLOW(cm)</th>\n",
       "      <th>Compressive Strength (28-day)(Mpa)</th>\n",
       "    </tr>\n",
       "  </thead>\n",
       "  <tbody>\n",
       "    <tr>\n",
       "      <th>0</th>\n",
       "      <td>273.0</td>\n",
       "      <td>82.0</td>\n",
       "      <td>105.0</td>\n",
       "      <td>210.0</td>\n",
       "      <td>9.0</td>\n",
       "      <td>904.0</td>\n",
       "      <td>680.0</td>\n",
       "      <td>23.0</td>\n",
       "      <td>62.0</td>\n",
       "      <td>34.99</td>\n",
       "    </tr>\n",
       "    <tr>\n",
       "      <th>1</th>\n",
       "      <td>163.0</td>\n",
       "      <td>149.0</td>\n",
       "      <td>191.0</td>\n",
       "      <td>180.0</td>\n",
       "      <td>12.0</td>\n",
       "      <td>843.0</td>\n",
       "      <td>746.0</td>\n",
       "      <td>0.0</td>\n",
       "      <td>20.0</td>\n",
       "      <td>41.14</td>\n",
       "    </tr>\n",
       "    <tr>\n",
       "      <th>2</th>\n",
       "      <td>162.0</td>\n",
       "      <td>148.0</td>\n",
       "      <td>191.0</td>\n",
       "      <td>179.0</td>\n",
       "      <td>16.0</td>\n",
       "      <td>840.0</td>\n",
       "      <td>743.0</td>\n",
       "      <td>1.0</td>\n",
       "      <td>20.0</td>\n",
       "      <td>41.81</td>\n",
       "    </tr>\n",
       "    <tr>\n",
       "      <th>3</th>\n",
       "      <td>162.0</td>\n",
       "      <td>148.0</td>\n",
       "      <td>190.0</td>\n",
       "      <td>179.0</td>\n",
       "      <td>19.0</td>\n",
       "      <td>838.0</td>\n",
       "      <td>741.0</td>\n",
       "      <td>3.0</td>\n",
       "      <td>21.5</td>\n",
       "      <td>42.08</td>\n",
       "    </tr>\n",
       "    <tr>\n",
       "      <th>4</th>\n",
       "      <td>154.0</td>\n",
       "      <td>112.0</td>\n",
       "      <td>144.0</td>\n",
       "      <td>220.0</td>\n",
       "      <td>10.0</td>\n",
       "      <td>923.0</td>\n",
       "      <td>658.0</td>\n",
       "      <td>20.0</td>\n",
       "      <td>64.0</td>\n",
       "      <td>26.82</td>\n",
       "    </tr>\n",
       "  </tbody>\n",
       "</table>\n",
       "</div>"
      ],
      "text/plain": [
       "   Cement   Slag  Fly ash  Water    SP  Coarse Aggr.  Fine Aggr.  SLUMP(cm)  \\\n",
       "0   273.0   82.0    105.0  210.0   9.0         904.0       680.0       23.0   \n",
       "1   163.0  149.0    191.0  180.0  12.0         843.0       746.0        0.0   \n",
       "2   162.0  148.0    191.0  179.0  16.0         840.0       743.0        1.0   \n",
       "3   162.0  148.0    190.0  179.0  19.0         838.0       741.0        3.0   \n",
       "4   154.0  112.0    144.0  220.0  10.0         923.0       658.0       20.0   \n",
       "\n",
       "   FLOW(cm)  Compressive Strength (28-day)(Mpa)  \n",
       "0      62.0                               34.99  \n",
       "1      20.0                               41.14  \n",
       "2      20.0                               41.81  \n",
       "3      21.5                               42.08  \n",
       "4      64.0                               26.82  "
      ]
     },
     "execution_count": 3,
     "metadata": {},
     "output_type": "execute_result"
    }
   ],
   "source": [
    "df.head()"
   ]
  },
  {
   "cell_type": "code",
   "execution_count": 4,
   "id": "4bb9fbe6",
   "metadata": {},
   "outputs": [
    {
     "data": {
      "text/plain": [
       "Index(['Cement', 'Slag', 'Fly ash', 'Water', 'SP', 'Coarse Aggr.',\n",
       "       'Fine Aggr.', 'SLUMP(cm)', 'FLOW(cm)',\n",
       "       'Compressive Strength (28-day)(Mpa)'],\n",
       "      dtype='object')"
      ]
     },
     "execution_count": 4,
     "metadata": {},
     "output_type": "execute_result"
    }
   ],
   "source": [
    "df.columns"
   ]
  },
  {
   "cell_type": "code",
   "execution_count": 6,
   "id": "d070d903",
   "metadata": {},
   "outputs": [
    {
     "data": {
      "text/html": [
       "<div>\n",
       "<style scoped>\n",
       "    .dataframe tbody tr th:only-of-type {\n",
       "        vertical-align: middle;\n",
       "    }\n",
       "\n",
       "    .dataframe tbody tr th {\n",
       "        vertical-align: top;\n",
       "    }\n",
       "\n",
       "    .dataframe thead th {\n",
       "        text-align: right;\n",
       "    }\n",
       "</style>\n",
       "<table border=\"1\" class=\"dataframe\">\n",
       "  <thead>\n",
       "    <tr style=\"text-align: right;\">\n",
       "      <th></th>\n",
       "      <th>count</th>\n",
       "      <th>mean</th>\n",
       "      <th>std</th>\n",
       "      <th>min</th>\n",
       "      <th>25%</th>\n",
       "      <th>50%</th>\n",
       "      <th>75%</th>\n",
       "      <th>max</th>\n",
       "    </tr>\n",
       "  </thead>\n",
       "  <tbody>\n",
       "    <tr>\n",
       "      <th>Cement</th>\n",
       "      <td>103.0</td>\n",
       "      <td>229.894175</td>\n",
       "      <td>78.877230</td>\n",
       "      <td>137.00</td>\n",
       "      <td>152.00</td>\n",
       "      <td>248.00</td>\n",
       "      <td>303.900</td>\n",
       "      <td>374.00</td>\n",
       "    </tr>\n",
       "    <tr>\n",
       "      <th>Slag</th>\n",
       "      <td>103.0</td>\n",
       "      <td>77.973786</td>\n",
       "      <td>60.461363</td>\n",
       "      <td>0.00</td>\n",
       "      <td>0.05</td>\n",
       "      <td>100.00</td>\n",
       "      <td>125.000</td>\n",
       "      <td>193.00</td>\n",
       "    </tr>\n",
       "    <tr>\n",
       "      <th>Fly ash</th>\n",
       "      <td>103.0</td>\n",
       "      <td>149.014563</td>\n",
       "      <td>85.418080</td>\n",
       "      <td>0.00</td>\n",
       "      <td>115.50</td>\n",
       "      <td>164.00</td>\n",
       "      <td>235.950</td>\n",
       "      <td>260.00</td>\n",
       "    </tr>\n",
       "    <tr>\n",
       "      <th>Water</th>\n",
       "      <td>103.0</td>\n",
       "      <td>197.167961</td>\n",
       "      <td>20.208158</td>\n",
       "      <td>160.00</td>\n",
       "      <td>180.00</td>\n",
       "      <td>196.00</td>\n",
       "      <td>209.500</td>\n",
       "      <td>240.00</td>\n",
       "    </tr>\n",
       "    <tr>\n",
       "      <th>SP</th>\n",
       "      <td>103.0</td>\n",
       "      <td>8.539806</td>\n",
       "      <td>2.807530</td>\n",
       "      <td>4.40</td>\n",
       "      <td>6.00</td>\n",
       "      <td>8.00</td>\n",
       "      <td>10.000</td>\n",
       "      <td>19.00</td>\n",
       "    </tr>\n",
       "    <tr>\n",
       "      <th>Coarse Aggr.</th>\n",
       "      <td>103.0</td>\n",
       "      <td>883.978641</td>\n",
       "      <td>88.391393</td>\n",
       "      <td>708.00</td>\n",
       "      <td>819.50</td>\n",
       "      <td>879.00</td>\n",
       "      <td>952.800</td>\n",
       "      <td>1049.90</td>\n",
       "    </tr>\n",
       "    <tr>\n",
       "      <th>Fine Aggr.</th>\n",
       "      <td>103.0</td>\n",
       "      <td>739.604854</td>\n",
       "      <td>63.342117</td>\n",
       "      <td>640.60</td>\n",
       "      <td>684.50</td>\n",
       "      <td>742.70</td>\n",
       "      <td>788.000</td>\n",
       "      <td>902.00</td>\n",
       "    </tr>\n",
       "    <tr>\n",
       "      <th>SLUMP(cm)</th>\n",
       "      <td>103.0</td>\n",
       "      <td>18.048544</td>\n",
       "      <td>8.750844</td>\n",
       "      <td>0.00</td>\n",
       "      <td>14.50</td>\n",
       "      <td>21.50</td>\n",
       "      <td>24.000</td>\n",
       "      <td>29.00</td>\n",
       "    </tr>\n",
       "    <tr>\n",
       "      <th>FLOW(cm)</th>\n",
       "      <td>103.0</td>\n",
       "      <td>49.610680</td>\n",
       "      <td>17.568610</td>\n",
       "      <td>20.00</td>\n",
       "      <td>38.50</td>\n",
       "      <td>54.00</td>\n",
       "      <td>63.750</td>\n",
       "      <td>78.00</td>\n",
       "    </tr>\n",
       "    <tr>\n",
       "      <th>Compressive Strength (28-day)(Mpa)</th>\n",
       "      <td>103.0</td>\n",
       "      <td>36.038738</td>\n",
       "      <td>7.837120</td>\n",
       "      <td>17.19</td>\n",
       "      <td>30.90</td>\n",
       "      <td>35.52</td>\n",
       "      <td>41.205</td>\n",
       "      <td>58.53</td>\n",
       "    </tr>\n",
       "  </tbody>\n",
       "</table>\n",
       "</div>"
      ],
      "text/plain": [
       "                                    count        mean        std     min  \\\n",
       "Cement                              103.0  229.894175  78.877230  137.00   \n",
       "Slag                                103.0   77.973786  60.461363    0.00   \n",
       "Fly ash                             103.0  149.014563  85.418080    0.00   \n",
       "Water                               103.0  197.167961  20.208158  160.00   \n",
       "SP                                  103.0    8.539806   2.807530    4.40   \n",
       "Coarse Aggr.                        103.0  883.978641  88.391393  708.00   \n",
       "Fine Aggr.                          103.0  739.604854  63.342117  640.60   \n",
       "SLUMP(cm)                           103.0   18.048544   8.750844    0.00   \n",
       "FLOW(cm)                            103.0   49.610680  17.568610   20.00   \n",
       "Compressive Strength (28-day)(Mpa)  103.0   36.038738   7.837120   17.19   \n",
       "\n",
       "                                       25%     50%      75%      max  \n",
       "Cement                              152.00  248.00  303.900   374.00  \n",
       "Slag                                  0.05  100.00  125.000   193.00  \n",
       "Fly ash                             115.50  164.00  235.950   260.00  \n",
       "Water                               180.00  196.00  209.500   240.00  \n",
       "SP                                    6.00    8.00   10.000    19.00  \n",
       "Coarse Aggr.                        819.50  879.00  952.800  1049.90  \n",
       "Fine Aggr.                          684.50  742.70  788.000   902.00  \n",
       "SLUMP(cm)                            14.50   21.50   24.000    29.00  \n",
       "FLOW(cm)                             38.50   54.00   63.750    78.00  \n",
       "Compressive Strength (28-day)(Mpa)   30.90   35.52   41.205    58.53  "
      ]
     },
     "execution_count": 6,
     "metadata": {},
     "output_type": "execute_result"
    }
   ],
   "source": [
    "df.describe().transpose()"
   ]
  },
  {
   "cell_type": "code",
   "execution_count": 7,
   "id": "f1e34359",
   "metadata": {},
   "outputs": [
    {
     "name": "stdout",
     "output_type": "stream",
     "text": [
      "<class 'pandas.core.frame.DataFrame'>\n",
      "RangeIndex: 103 entries, 0 to 102\n",
      "Data columns (total 10 columns):\n",
      " #   Column                              Non-Null Count  Dtype  \n",
      "---  ------                              --------------  -----  \n",
      " 0   Cement                              103 non-null    float64\n",
      " 1   Slag                                103 non-null    float64\n",
      " 2   Fly ash                             103 non-null    float64\n",
      " 3   Water                               103 non-null    float64\n",
      " 4   SP                                  103 non-null    float64\n",
      " 5   Coarse Aggr.                        103 non-null    float64\n",
      " 6   Fine Aggr.                          103 non-null    float64\n",
      " 7   SLUMP(cm)                           103 non-null    float64\n",
      " 8   FLOW(cm)                            103 non-null    float64\n",
      " 9   Compressive Strength (28-day)(Mpa)  103 non-null    float64\n",
      "dtypes: float64(10)\n",
      "memory usage: 8.2 KB\n"
     ]
    }
   ],
   "source": [
    "df.info()"
   ]
  },
  {
   "cell_type": "code",
   "execution_count": 8,
   "id": "eaf12153",
   "metadata": {},
   "outputs": [
    {
     "data": {
      "text/plain": [
       "<AxesSubplot:>"
      ]
     },
     "execution_count": 8,
     "metadata": {},
     "output_type": "execute_result"
    },
    {
     "data": {
      "image/png": "[encoded data removed]",
      "text/plain": [
       "<Figure size 864x576 with 2 Axes>"
      ]
     },
     "metadata": {
      "needs_background": "light"
     },
     "output_type": "display_data"
    }
   ],
   "source": [
    "plt.figure(figsize=(12,8))\n",
    "sns.heatmap(df.corr(),annot=True)"
   ]
  },
  {
   "cell_type": "code",
   "execution_count": 15,
   "id": "34af68d1",
   "metadata": {},
   "outputs": [
    {
     "data": {
      "text/plain": [
       "Cement                                0.445656\n",
       "Slag                                 -0.331522\n",
       "Fly ash                               0.444380\n",
       "Water                                -0.254320\n",
       "SP                                   -0.037909\n",
       "Coarse Aggr.                         -0.160610\n",
       "Fine Aggr.                           -0.154532\n",
       "SLUMP(cm)                            -0.223499\n",
       "FLOW(cm)                             -0.124189\n",
       "Compressive Strength (28-day)(Mpa)    1.000000\n",
       "Name: Compressive Strength (28-day)(Mpa), dtype: float64"
      ]
     },
     "execution_count": 15,
     "metadata": {},
     "output_type": "execute_result"
    }
   ],
   "source": [
    "(df.corr()['Compressive Strength (28-day)(Mpa)'])"
   ]
  },
  {
   "cell_type": "code",
   "execution_count": 30,
   "id": "d3c135ad",
   "metadata": {},
   "outputs": [
    {
     "data": {
      "text/html": [
       "<div>\n",
       "<style scoped>\n",
       "    .dataframe tbody tr th:only-of-type {\n",
       "        vertical-align: middle;\n",
       "    }\n",
       "\n",
       "    .dataframe tbody tr th {\n",
       "        vertical-align: top;\n",
       "    }\n",
       "\n",
       "    .dataframe thead th {\n",
       "        text-align: right;\n",
       "    }\n",
       "</style>\n",
       "<table border=\"1\" class=\"dataframe\">\n",
       "  <thead>\n",
       "    <tr style=\"text-align: right;\">\n",
       "      <th></th>\n",
       "      <th>Compressive Strength (28-day)(Mpa)</th>\n",
       "    </tr>\n",
       "  </thead>\n",
       "  <tbody>\n",
       "    <tr>\n",
       "      <th>Cement</th>\n",
       "      <td>0.445656</td>\n",
       "    </tr>\n",
       "    <tr>\n",
       "      <th>Slag</th>\n",
       "      <td>-0.331522</td>\n",
       "    </tr>\n",
       "    <tr>\n",
       "      <th>Fly ash</th>\n",
       "      <td>0.444380</td>\n",
       "    </tr>\n",
       "    <tr>\n",
       "      <th>Water</th>\n",
       "      <td>-0.254320</td>\n",
       "    </tr>\n",
       "    <tr>\n",
       "      <th>SP</th>\n",
       "      <td>-0.037909</td>\n",
       "    </tr>\n",
       "    <tr>\n",
       "      <th>Coarse Aggr.</th>\n",
       "      <td>-0.160610</td>\n",
       "    </tr>\n",
       "    <tr>\n",
       "      <th>Fine Aggr.</th>\n",
       "      <td>-0.154532</td>\n",
       "    </tr>\n",
       "    <tr>\n",
       "      <th>SLUMP(cm)</th>\n",
       "      <td>-0.223499</td>\n",
       "    </tr>\n",
       "    <tr>\n",
       "      <th>FLOW(cm)</th>\n",
       "      <td>-0.124189</td>\n",
       "    </tr>\n",
       "    <tr>\n",
       "      <th>Compressive Strength (28-day)(Mpa)</th>\n",
       "      <td>1.000000</td>\n",
       "    </tr>\n",
       "  </tbody>\n",
       "</table>\n",
       "</div>"
      ],
      "text/plain": [
       "                                    Compressive Strength (28-day)(Mpa)\n",
       "Cement                                                        0.445656\n",
       "Slag                                                         -0.331522\n",
       "Fly ash                                                       0.444380\n",
       "Water                                                        -0.254320\n",
       "SP                                                           -0.037909\n",
       "Coarse Aggr.                                                 -0.160610\n",
       "Fine Aggr.                                                   -0.154532\n",
       "SLUMP(cm)                                                    -0.223499\n",
       "FLOW(cm)                                                     -0.124189\n",
       "Compressive Strength (28-day)(Mpa)                            1.000000"
      ]
     },
     "execution_count": 30,
     "metadata": {},
     "output_type": "execute_result"
    }
   ],
   "source": [
    "data= pd.DataFrame(df.corr()['Compressive Strength (28-day)(Mpa)'])\n",
    "data"
   ]
  },
  {
   "cell_type": "code",
   "execution_count": 34,
   "id": "b9daac8b",
   "metadata": {},
   "outputs": [
    {
     "data": {
      "text/html": [
       "<div>\n",
       "<style scoped>\n",
       "    .dataframe tbody tr th:only-of-type {\n",
       "        vertical-align: middle;\n",
       "    }\n",
       "\n",
       "    .dataframe tbody tr th {\n",
       "        vertical-align: top;\n",
       "    }\n",
       "\n",
       "    .dataframe thead th {\n",
       "        text-align: right;\n",
       "    }\n",
       "</style>\n",
       "<table border=\"1\" class=\"dataframe\">\n",
       "  <thead>\n",
       "    <tr style=\"text-align: right;\">\n",
       "      <th></th>\n",
       "      <th>Compressive Strength (28-day)(Mpa)</th>\n",
       "    </tr>\n",
       "  </thead>\n",
       "  <tbody>\n",
       "    <tr>\n",
       "      <th>Slag</th>\n",
       "      <td>-0.331522</td>\n",
       "    </tr>\n",
       "    <tr>\n",
       "      <th>Water</th>\n",
       "      <td>-0.254320</td>\n",
       "    </tr>\n",
       "    <tr>\n",
       "      <th>SLUMP(cm)</th>\n",
       "      <td>-0.223499</td>\n",
       "    </tr>\n",
       "    <tr>\n",
       "      <th>Coarse Aggr.</th>\n",
       "      <td>-0.160610</td>\n",
       "    </tr>\n",
       "    <tr>\n",
       "      <th>Fine Aggr.</th>\n",
       "      <td>-0.154532</td>\n",
       "    </tr>\n",
       "    <tr>\n",
       "      <th>FLOW(cm)</th>\n",
       "      <td>-0.124189</td>\n",
       "    </tr>\n",
       "    <tr>\n",
       "      <th>SP</th>\n",
       "      <td>-0.037909</td>\n",
       "    </tr>\n",
       "    <tr>\n",
       "      <th>Fly ash</th>\n",
       "      <td>0.444380</td>\n",
       "    </tr>\n",
       "    <tr>\n",
       "      <th>Cement</th>\n",
       "      <td>0.445656</td>\n",
       "    </tr>\n",
       "    <tr>\n",
       "      <th>Compressive Strength (28-day)(Mpa)</th>\n",
       "      <td>1.000000</td>\n",
       "    </tr>\n",
       "  </tbody>\n",
       "</table>\n",
       "</div>"
      ],
      "text/plain": [
       "                                    Compressive Strength (28-day)(Mpa)\n",
       "Slag                                                         -0.331522\n",
       "Water                                                        -0.254320\n",
       "SLUMP(cm)                                                    -0.223499\n",
       "Coarse Aggr.                                                 -0.160610\n",
       "Fine Aggr.                                                   -0.154532\n",
       "FLOW(cm)                                                     -0.124189\n",
       "SP                                                           -0.037909\n",
       "Fly ash                                                       0.444380\n",
       "Cement                                                        0.445656\n",
       "Compressive Strength (28-day)(Mpa)                            1.000000"
      ]
     },
     "execution_count": 34,
     "metadata": {},
     "output_type": "execute_result"
    }
   ],
   "source": [
    "data.sort_values(by='Compressive Strength (28-day)(Mpa)',inplace=True)\n",
    "data"
   ]
  },
  {
   "cell_type": "markdown",
   "id": "d7178694",
   "metadata": {},
   "source": [
    "---\n",
    "\n",
    "the features fly ash and cement best correlate with compressive strength\n",
    "\n",
    "---"
   ]
  },
  {
   "cell_type": "code",
   "execution_count": 38,
   "id": "ab9ae395",
   "metadata": {},
   "outputs": [
    {
     "data": {
      "text/plain": [
       "(array([0, 1, 2, 3, 4, 5, 6, 7, 8, 9]),\n",
       " [Text(0, 0, 'Slag'),\n",
       "  Text(1, 0, 'Water'),\n",
       "  Text(2, 0, 'SLUMP(cm)'),\n",
       "  Text(3, 0, 'Coarse Aggr.'),\n",
       "  Text(4, 0, 'Fine Aggr.'),\n",
       "  Text(5, 0, 'FLOW(cm)'),\n",
       "  Text(6, 0, 'SP'),\n",
       "  Text(7, 0, 'Fly ash'),\n",
       "  Text(8, 0, 'Cement'),\n",
       "  Text(9, 0, 'Compressive Strength (28-day)(Mpa)')])"
      ]
     },
     "execution_count": 38,
     "metadata": {},
     "output_type": "execute_result"
    },
    {
     "data": {
      "image/png": "[encoded data removed]",
      "text/plain": [
       "<Figure size 864x576 with 1 Axes>"
      ]
     },
     "metadata": {
      "needs_background": "light"
     },
     "output_type": "display_data"
    }
   ],
   "source": [
    "plt.figure(figsize=(12,8))\n",
    "sns.barplot(x=data.index,y=data['Compressive Strength (28-day)(Mpa)'])\n",
    "plt.xticks(rotation=90)"
   ]
  },
  {
   "cell_type": "code",
   "execution_count": 42,
   "id": "81cfd708",
   "metadata": {},
   "outputs": [],
   "source": [
    "y=df['Compressive Strength (28-day)(Mpa)']\n",
    "X=df.drop('Compressive Strength (28-day)(Mpa)',axis=1)"
   ]
  },
  {
   "cell_type": "markdown",
   "id": "d31175fd",
   "metadata": {},
   "source": [
    "## TRAIN | TEST | SPLIT"
   ]
  },
  {
   "cell_type": "code",
   "execution_count": 40,
   "id": "01f42bf5",
   "metadata": {},
   "outputs": [],
   "source": [
    "from sklearn.model_selection import train_test_split, GridSearchCV\n",
    "from sklearn.preprocessing import StandardScaler"
   ]
  },
  {
   "cell_type": "code",
   "execution_count": 43,
   "id": "567d7c17",
   "metadata": {},
   "outputs": [],
   "source": [
    "X_train,X_test,y_train,y_test=train_test_split(X,y,test_size=0.3,random_state=101)"
   ]
  },
  {
   "cell_type": "code",
   "execution_count": 44,
   "id": "ce38c1ed",
   "metadata": {},
   "outputs": [],
   "source": [
    "scaler=StandardScaler()\n",
    "scaled_X_train=scaler.fit_transform(X_train)\n",
    "scaled_X_test=scaler.transform(X_test)"
   ]
  },
  {
   "cell_type": "code",
   "execution_count": 45,
   "id": "8c86b8b9",
   "metadata": {},
   "outputs": [],
   "source": [
    "from sklearn.svm import SVR, LinearSVR"
   ]
  },
  {
   "cell_type": "code",
   "execution_count": 46,
   "id": "83cb34d8",
   "metadata": {},
   "outputs": [],
   "source": [
    "base_model=SVR()"
   ]
  },
  {
   "cell_type": "code",
   "execution_count": 47,
   "id": "1999b4af",
   "metadata": {},
   "outputs": [
    {
     "data": {
      "text/plain": [
       "SVR()"
      ]
     },
     "execution_count": 47,
     "metadata": {},
     "output_type": "execute_result"
    }
   ],
   "source": [
    "base_model.fit(scaled_X_train,y_train)"
   ]
  },
  {
   "cell_type": "code",
   "execution_count": 48,
   "id": "e97231c8",
   "metadata": {},
   "outputs": [],
   "source": [
    "base_preds= base_model.predict(scaled_X_test)"
   ]
  },
  {
   "cell_type": "code",
   "execution_count": 49,
   "id": "a6e948b7",
   "metadata": {},
   "outputs": [],
   "source": [
    "from sklearn.metrics import mean_absolute_error, mean_squared_error"
   ]
  },
  {
   "cell_type": "code",
   "execution_count": 51,
   "id": "76d19d14",
   "metadata": {},
   "outputs": [
    {
     "data": {
      "text/plain": [
       "5.170133933024929"
      ]
     },
     "execution_count": 51,
     "metadata": {},
     "output_type": "execute_result"
    }
   ],
   "source": [
    "mean_absolute_error(y_test,base_preds)"
   ]
  },
  {
   "cell_type": "code",
   "execution_count": 54,
   "id": "356cdcae",
   "metadata": {},
   "outputs": [
    {
     "data": {
      "text/plain": [
       "6.920167712673791"
      ]
     },
     "execution_count": 54,
     "metadata": {},
     "output_type": "execute_result"
    }
   ],
   "source": [
    "np.sqrt(mean_squared_error(y_test,base_preds))"
   ]
  },
  {
   "cell_type": "code",
   "execution_count": 55,
   "id": "2f40d78b",
   "metadata": {},
   "outputs": [
    {
     "data": {
      "text/plain": [
       "36.92269230769231"
      ]
     },
     "execution_count": 55,
     "metadata": {},
     "output_type": "execute_result"
    }
   ],
   "source": [
    "y_test.mean()"
   ]
  },
  {
   "cell_type": "code",
   "execution_count": 67,
   "id": "9f5a5699",
   "metadata": {},
   "outputs": [],
   "source": [
    "param_grid={'C':[0.001,0.01,0.1,0.5,1],\n",
    "            'kernel':['linear','rbf','poly'],\n",
    "            'gamma':['scale','auto'],\n",
    "            'degree':[2,3,4],\n",
    "            'epsilon': [0,0.001,0.01,0.1,0.5,1,2]}"
   ]
  },
  {
   "cell_type": "code",
   "execution_count": 63,
   "id": "a51c3024",
   "metadata": {},
   "outputs": [],
   "source": [
    "svr=SVR()\n",
    "grid_model= GridSearchCV(svr,param_grid=param_grid)"
   ]
  },
  {
   "cell_type": "code",
   "execution_count": 64,
   "id": "0ea77b23",
   "metadata": {},
   "outputs": [
    {
     "data": {
      "text/plain": [
       "{'C': 1, 'degree': 2, 'epsilon': 2, 'gamma': 'scale', 'kernel': 'linear'}"
      ]
     },
     "execution_count": 64,
     "metadata": {},
     "output_type": "execute_result"
    }
   ],
   "source": [
    "grid_model.fit(scaled_X_train,y_train)\n",
    "grid_model.best_params_"
   ]
  },
  {
   "cell_type": "code",
   "execution_count": 66,
   "id": "787a4f4a",
   "metadata": {},
   "outputs": [],
   "source": [
    "preds=grid_model.predict(scaled_X_test)"
   ]
  },
  {
   "cell_type": "code",
   "execution_count": 68,
   "id": "9a55ea19",
   "metadata": {},
   "outputs": [
    {
     "data": {
      "text/plain": [
       "2.6824215381446965"
      ]
     },
     "execution_count": 68,
     "metadata": {},
     "output_type": "execute_result"
    }
   ],
   "source": [
    "mean_absolute_error(y_test,preds)"
   ]
  },
  {
   "cell_type": "code",
   "execution_count": 69,
   "id": "820e96e8",
   "metadata": {},
   "outputs": [
    {
     "data": {
      "text/plain": [
       "3.327444647544672"
      ]
     },
     "execution_count": 69,
     "metadata": {},
     "output_type": "execute_result"
    }
   ],
   "source": [
    "np.sqrt(mean_squared_error(y_test,preds))"
   ]
  },
  {
   "cell_type": "code",
   "execution_count": null,
   "id": "6bbfabdb",
   "metadata": {},
   "outputs": [],
   "source": []
  },
  {
   "cell_type": "code",
   "execution_count": null,
   "id": "140f06f2",
   "metadata": {},
   "outputs": [],
   "source": []
  },
  {
   "cell_type": "code",
   "execution_count": null,
   "id": "13f414d8",
   "metadata": {},
   "outputs": [],
   "source": []
  },
  {
   "cell_type": "code",
   "execution_count": null,
   "id": "077530a7",
   "metadata": {},
   "outputs": [],
   "source": []
  }
 ],
 "metadata": {
  "kernelspec": {
   "display_name": "Python 3",
   "language": "python",
   "name": "python3"
  },
  "language_info": {
   "codemirror_mode": {
    "name": "ipython",
    "version": 3
   },
   "file_extension": ".py",
   "mimetype": "text/x-python",
   "name": "python",
   "nbconvert_exporter": "python",
   "pygments_lexer": "ipython3",
   "version": "3.8.8"
  }
 },
 "nbformat": 4,
 "nbformat_minor": 5
}
