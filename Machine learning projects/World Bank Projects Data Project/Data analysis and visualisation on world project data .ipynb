{
 "cells": [
  {
   "cell_type": "code",
   "execution_count": 1,
   "id": "03883a77",
   "metadata": {},
   "outputs": [],
   "source": [
    "import numpy as np\n",
    "import pandas as pd\n",
    "import seaborn as sns\n",
    "import matplotlib.pyplot as plt"
   ]
  },
  {
   "cell_type": "code",
   "execution_count": 2,
   "id": "8d356441",
   "metadata": {},
   "outputs": [],
   "source": [
    "data = pd.read_csv('world_project_data.csv',)"
   ]
  },
  {
   "cell_type": "markdown",
   "id": "16cad80a",
   "metadata": {},
   "source": [
    "## part 1 - analysis on scraped world project data"
   ]
  },
  {
   "cell_type": "code",
   "execution_count": 3,
   "id": "0c030833",
   "metadata": {},
   "outputs": [
    {
     "data": {
      "text/html": [
       "<div>\n",
       "<style scoped>\n",
       "    .dataframe tbody tr th:only-of-type {\n",
       "        vertical-align: middle;\n",
       "    }\n",
       "\n",
       "    .dataframe tbody tr th {\n",
       "        vertical-align: top;\n",
       "    }\n",
       "\n",
       "    .dataframe thead th {\n",
       "        text-align: right;\n",
       "    }\n",
       "</style>\n",
       "<table border=\"1\" class=\"dataframe\">\n",
       "  <thead>\n",
       "    <tr style=\"text-align: right;\">\n",
       "      <th></th>\n",
       "      <th>Unnamed: 0</th>\n",
       "      <th>project_title</th>\n",
       "      <th>Country</th>\n",
       "      <th>project_id</th>\n",
       "      <th>commitment_amount</th>\n",
       "      <th>status</th>\n",
       "      <th>Approval_date</th>\n",
       "      <th>last_updated_date</th>\n",
       "    </tr>\n",
       "  </thead>\n",
       "  <tbody>\n",
       "    <tr>\n",
       "      <th>0</th>\n",
       "      <td>0</td>\n",
       "      <td>Primary Health Care Investment Program</td>\n",
       "      <td>Ghana</td>\n",
       "      <td>P173168</td>\n",
       "      <td>150.0</td>\n",
       "      <td>Active</td>\n",
       "      <td>June 10, 2022</td>\n",
       "      <td>May 18, 2022</td>\n",
       "    </tr>\n",
       "    <tr>\n",
       "      <th>1</th>\n",
       "      <td>1</td>\n",
       "      <td>Costa Rica COVID-19 Vaccines Project</td>\n",
       "      <td>Costa Rica</td>\n",
       "      <td>P178320</td>\n",
       "      <td>120.0</td>\n",
       "      <td>Active</td>\n",
       "      <td>June 10, 2022</td>\n",
       "      <td>May 17, 2022</td>\n",
       "    </tr>\n",
       "    <tr>\n",
       "      <th>2</th>\n",
       "      <td>2</td>\n",
       "      <td>Rail Logistics Project</td>\n",
       "      <td>India</td>\n",
       "      <td>P177856</td>\n",
       "      <td>245.0</td>\n",
       "      <td>Active</td>\n",
       "      <td>June 10, 2022</td>\n",
       "      <td>May 18, 2022</td>\n",
       "    </tr>\n",
       "    <tr>\n",
       "      <th>3</th>\n",
       "      <td>3</td>\n",
       "      <td>PFM for Service Delivery Program</td>\n",
       "      <td>Ghana</td>\n",
       "      <td>P176445</td>\n",
       "      <td>150.0</td>\n",
       "      <td>Active</td>\n",
       "      <td>June 10, 2022</td>\n",
       "      <td>May 18, 2022</td>\n",
       "    </tr>\n",
       "    <tr>\n",
       "      <th>4</th>\n",
       "      <td>4</td>\n",
       "      <td>Guyana Strengthening Human Capital through Edu...</td>\n",
       "      <td>Guyana</td>\n",
       "      <td>P177741</td>\n",
       "      <td>44.0</td>\n",
       "      <td>Active</td>\n",
       "      <td>June 10, 2022</td>\n",
       "      <td>May 23, 2022</td>\n",
       "    </tr>\n",
       "  </tbody>\n",
       "</table>\n",
       "</div>"
      ],
      "text/plain": [
       "   Unnamed: 0                                      project_title     Country  \\\n",
       "0           0             Primary Health Care Investment Program       Ghana   \n",
       "1           1               Costa Rica COVID-19 Vaccines Project  Costa Rica   \n",
       "2           2                             Rail Logistics Project       India   \n",
       "3           3                   PFM for Service Delivery Program       Ghana   \n",
       "4           4  Guyana Strengthening Human Capital through Edu...      Guyana   \n",
       "\n",
       "  project_id  commitment_amount  status  Approval_date last_updated_date  \n",
       "0    P173168              150.0  Active  June 10, 2022      May 18, 2022  \n",
       "1    P178320              120.0  Active  June 10, 2022      May 17, 2022  \n",
       "2    P177856              245.0  Active  June 10, 2022      May 18, 2022  \n",
       "3    P176445              150.0  Active  June 10, 2022      May 18, 2022  \n",
       "4    P177741               44.0  Active  June 10, 2022      May 23, 2022  "
      ]
     },
     "execution_count": 3,
     "metadata": {},
     "output_type": "execute_result"
    }
   ],
   "source": [
    "data.head()"
   ]
  },
  {
   "cell_type": "code",
   "execution_count": 5,
   "id": "96789ced",
   "metadata": {},
   "outputs": [
    {
     "data": {
      "text/plain": [
       "Index(['Unnamed: 0', 'project_title', 'Country', 'project_id',\n",
       "       'commitment_amount', 'status', 'Approval_date', 'last_updated_date'],\n",
       "      dtype='object')"
      ]
     },
     "execution_count": 5,
     "metadata": {},
     "output_type": "execute_result"
    }
   ],
   "source": [
    "data.columns"
   ]
  },
  {
   "cell_type": "code",
   "execution_count": 7,
   "id": "f1099888",
   "metadata": {},
   "outputs": [],
   "source": [
    "df = data[['project_title', 'Country', 'project_id',\n",
    "       'commitment_amount', 'status', 'Approval_date', 'last_updated_date']]"
   ]
  },
  {
   "cell_type": "code",
   "execution_count": 8,
   "id": "370967fe",
   "metadata": {},
   "outputs": [
    {
     "data": {
      "text/html": [
       "<div>\n",
       "<style scoped>\n",
       "    .dataframe tbody tr th:only-of-type {\n",
       "        vertical-align: middle;\n",
       "    }\n",
       "\n",
       "    .dataframe tbody tr th {\n",
       "        vertical-align: top;\n",
       "    }\n",
       "\n",
       "    .dataframe thead th {\n",
       "        text-align: right;\n",
       "    }\n",
       "</style>\n",
       "<table border=\"1\" class=\"dataframe\">\n",
       "  <thead>\n",
       "    <tr style=\"text-align: right;\">\n",
       "      <th></th>\n",
       "      <th>project_title</th>\n",
       "      <th>Country</th>\n",
       "      <th>project_id</th>\n",
       "      <th>commitment_amount</th>\n",
       "      <th>status</th>\n",
       "      <th>Approval_date</th>\n",
       "      <th>last_updated_date</th>\n",
       "    </tr>\n",
       "  </thead>\n",
       "  <tbody>\n",
       "    <tr>\n",
       "      <th>0</th>\n",
       "      <td>Primary Health Care Investment Program</td>\n",
       "      <td>Ghana</td>\n",
       "      <td>P173168</td>\n",
       "      <td>150.0</td>\n",
       "      <td>Active</td>\n",
       "      <td>June 10, 2022</td>\n",
       "      <td>May 18, 2022</td>\n",
       "    </tr>\n",
       "    <tr>\n",
       "      <th>1</th>\n",
       "      <td>Costa Rica COVID-19 Vaccines Project</td>\n",
       "      <td>Costa Rica</td>\n",
       "      <td>P178320</td>\n",
       "      <td>120.0</td>\n",
       "      <td>Active</td>\n",
       "      <td>June 10, 2022</td>\n",
       "      <td>May 17, 2022</td>\n",
       "    </tr>\n",
       "    <tr>\n",
       "      <th>2</th>\n",
       "      <td>Rail Logistics Project</td>\n",
       "      <td>India</td>\n",
       "      <td>P177856</td>\n",
       "      <td>245.0</td>\n",
       "      <td>Active</td>\n",
       "      <td>June 10, 2022</td>\n",
       "      <td>May 18, 2022</td>\n",
       "    </tr>\n",
       "    <tr>\n",
       "      <th>3</th>\n",
       "      <td>PFM for Service Delivery Program</td>\n",
       "      <td>Ghana</td>\n",
       "      <td>P176445</td>\n",
       "      <td>150.0</td>\n",
       "      <td>Active</td>\n",
       "      <td>June 10, 2022</td>\n",
       "      <td>May 18, 2022</td>\n",
       "    </tr>\n",
       "    <tr>\n",
       "      <th>4</th>\n",
       "      <td>Guyana Strengthening Human Capital through Edu...</td>\n",
       "      <td>Guyana</td>\n",
       "      <td>P177741</td>\n",
       "      <td>44.0</td>\n",
       "      <td>Active</td>\n",
       "      <td>June 10, 2022</td>\n",
       "      <td>May 23, 2022</td>\n",
       "    </tr>\n",
       "  </tbody>\n",
       "</table>\n",
       "</div>"
      ],
      "text/plain": [
       "                                       project_title     Country project_id  \\\n",
       "0             Primary Health Care Investment Program       Ghana    P173168   \n",
       "1               Costa Rica COVID-19 Vaccines Project  Costa Rica    P178320   \n",
       "2                             Rail Logistics Project       India    P177856   \n",
       "3                   PFM for Service Delivery Program       Ghana    P176445   \n",
       "4  Guyana Strengthening Human Capital through Edu...      Guyana    P177741   \n",
       "\n",
       "   commitment_amount  status  Approval_date last_updated_date  \n",
       "0              150.0  Active  June 10, 2022      May 18, 2022  \n",
       "1              120.0  Active  June 10, 2022      May 17, 2022  \n",
       "2              245.0  Active  June 10, 2022      May 18, 2022  \n",
       "3              150.0  Active  June 10, 2022      May 18, 2022  \n",
       "4               44.0  Active  June 10, 2022      May 23, 2022  "
      ]
     },
     "execution_count": 8,
     "metadata": {},
     "output_type": "execute_result"
    }
   ],
   "source": [
    "df.head()"
   ]
  },
  {
   "cell_type": "code",
   "execution_count": 9,
   "id": "17b23693",
   "metadata": {},
   "outputs": [
    {
     "data": {
      "text/plain": [
       "array(['Ghana', 'Costa Rica', 'India', 'Guyana', 'Indonesia',\n",
       "       'St Maarten', 'Eastern and Southern Africa', 'Tonga',\n",
       "       'Solomon Islands', 'Pakistan', 'Gambia, The', 'West Bank and Gaza',\n",
       "       'Ukraine', 'Chad', 'Central Asia', 'Mongolia', 'South Sudan',\n",
       "       'Marshall Islands', 'Somalia', 'Central African Republic',\n",
       "       'Dominica', 'Middle East and North Africa', 'Sierra Leone',\n",
       "       'Afghanistan', 'Senegal', 'Congo, Republic of', 'Nepal',\n",
       "       'Cameroon', 'Moldova', 'Maldives', 'Samoa', 'Uganda',\n",
       "       'Dominican Republic', 'Ethiopia', 'Argentina', 'Mexico',\n",
       "       'Cabo Verde', 'Congo, Democratic Republic of', 'Bangladesh',\n",
       "       'Comoros', 'Djibouti', 'Ecuador', 'Haiti', 'Türkiye', 'Grenada',\n",
       "       'Cambodia', 'Kiribati', 'Madagascar', 'Timor-Leste', 'Malawi',\n",
       "       'Tunisia', 'Uzbekistan', 'Tanzania', 'Morocco', 'Fiji', 'Armenia',\n",
       "       'Western and Central Africa', \"Cote d'Ivoire\", 'Lebanon',\n",
       "       \"Lao People's Democratic Republic\", 'Liberia', 'OECS Countries',\n",
       "       'China', 'Jordan', 'Albania', 'Brazil', 'Iraq', 'Eswatini',\n",
       "       'Sao Tome and Principe', 'Micronesia, Federated States of',\n",
       "       'Kyrgyz Republic', 'Benin', 'Bhutan', 'Rwanda', 'Tuvalu', 'Niger',\n",
       "       'South Africa', 'Bosnia and Herzegovina',\n",
       "       'St. Vincent and the Grenadines', 'Kenya', 'Peru', 'Togo',\n",
       "       'Yemen, Republic of', 'Angola', 'Panama', 'Colombia', 'Serbia',\n",
       "       'Georgia', 'Kosovo', 'Nigeria', 'Vanuatu', 'World', 'Belize',\n",
       "       'Vietnam', 'Tajikistan', 'Zimbabwe', 'Lesotho', 'Africa',\n",
       "       'Uruguay', 'South Asia', 'Guinea-Bissau', 'Mauritania', 'Burundi',\n",
       "       'Iran, Islamic Republic of', 'Philippines', 'Mozambique', 'Zambia',\n",
       "       'El Salvador', 'Seychelles', 'Honduras', 'Kazakhstan', 'Poland',\n",
       "       'Burkina Faso', 'Croatia', 'Egypt, Arab Republic of',\n",
       "       'Latin America', 'Gabon', 'Mali', 'Sri Lanka', 'Guatemala',\n",
       "       'Multi-Regional', 'St. Lucia', 'Turkmenistan',\n",
       "       'East Asia and Pacific', 'Guinea', 'Papua New Guinea', 'Barbados',\n",
       "       'Jamaica', 'Caribbean', 'Sudan', 'Botswana', 'Romania',\n",
       "       'Bahamas, The', 'Azerbaijan', 'Southern Africa', 'Nicaragua',\n",
       "       'North Macedonia', 'Myanmar', 'Western Balkans',\n",
       "       'Trinidad and Tobago', 'Belarus', 'Bolivia', 'Paraguay',\n",
       "       'Montenegro', 'Pacific Islands', 'Thailand', 'Chile',\n",
       "       'Central Africa', 'Suriname', 'Europe and Central Asia', 'Palau',\n",
       "       'Mauritius', 'Namibia', 'Bulgaria', 'Caucasus',\n",
       "       'Russian Federation', 'Antigua and Barbuda', 'Central America',\n",
       "       'Libya', 'Czech Republic', 'Latvia', 'Mekong', 'American Samoa',\n",
       "       'Syrian Arab Republic', 'Asia', 'Andean Countries', 'Hungary',\n",
       "       'Equatorial Guinea', 'Algeria', 'Malaysia', 'Eritrea', 'Mercosur',\n",
       "       'Slovak Republic', 'Venezuela, Republica Bolivariana de',\n",
       "       'Lithuania', 'St. Kitts and Nevis', 'Korea, Republic of',\n",
       "       'Slovenia', 'Estonia', 'Red Sea and Gulf of Aden', 'Aral Sea',\n",
       "       'Cyprus', 'Yugoslavia, former', 'Portugal', 'Oman', 'Greece',\n",
       "       'Spain', 'Ireland', 'Singapore', 'Israel', 'Finland', 'Iceland',\n",
       "       'New Zealand', 'Taiwan, China', 'Japan', 'Italy', 'Norway',\n",
       "       'Malta', 'Denmark', 'Austria', 'Australia', 'Belgium',\n",
       "       'Netherlands', 'Luxembourg', 'France', 'South East Asia', nan,\n",
       "       'EU Accession Countries'], dtype=object)"
      ]
     },
     "execution_count": 9,
     "metadata": {},
     "output_type": "execute_result"
    }
   ],
   "source": [
    "# names of the countries\n",
    "df['Country'].unique()"
   ]
  },
  {
   "cell_type": "code",
   "execution_count": 34,
   "id": "ae523b1c",
   "metadata": {},
   "outputs": [],
   "source": [
    "cols = df['Country'].unique()"
   ]
  },
  {
   "cell_type": "code",
   "execution_count": 10,
   "id": "41c6a76f",
   "metadata": {},
   "outputs": [
    {
     "data": {
      "text/plain": [
       "208"
      ]
     },
     "execution_count": 10,
     "metadata": {},
     "output_type": "execute_result"
    }
   ],
   "source": [
    "len(df['Country'].unique())"
   ]
  },
  {
   "cell_type": "code",
   "execution_count": 11,
   "id": "38b64557",
   "metadata": {},
   "outputs": [
    {
     "data": {
      "text/plain": [
       "India                       800\n",
       "Indonesia                   560\n",
       "Brazil                      537\n",
       "China                       531\n",
       "Pakistan                    440\n",
       "                           ... \n",
       "Antigua and Barbuda           1\n",
       "Libya                         1\n",
       "American Samoa                1\n",
       "Red Sea and Gulf of Aden      1\n",
       "Malta                         1\n",
       "Name: Country, Length: 207, dtype: int64"
      ]
     },
     "execution_count": 11,
     "metadata": {},
     "output_type": "execute_result"
    }
   ],
   "source": [
    "# checking the country with the maximum projects\n",
    "df['Country'].value_counts()"
   ]
  },
  {
   "cell_type": "code",
   "execution_count": 12,
   "id": "1c8ac347",
   "metadata": {},
   "outputs": [
    {
     "data": {
      "text/plain": [
       "Malta                       1\n",
       "Mercosur                    1\n",
       "EU Accession Countries      1\n",
       "France                      1\n",
       "South East Asia             1\n",
       "                         ... \n",
       "Pakistan                  440\n",
       "China                     531\n",
       "Brazil                    537\n",
       "Indonesia                 560\n",
       "India                     800\n",
       "Name: Country, Length: 207, dtype: int64"
      ]
     },
     "execution_count": 12,
     "metadata": {},
     "output_type": "execute_result"
    }
   ],
   "source": [
    "df['Country'].value_counts().sort_values()"
   ]
  },
  {
   "cell_type": "code",
   "execution_count": 24,
   "id": "db2625fc",
   "metadata": {},
   "outputs": [],
   "source": [
    "num_of_projects = df['Country'].value_counts().sort_values(ascending=False)"
   ]
  },
  {
   "cell_type": "code",
   "execution_count": 27,
   "id": "74f2ba0c",
   "metadata": {},
   "outputs": [
    {
     "data": {
      "text/plain": [
       "Index(['India', 'Indonesia', 'Brazil', 'China', 'Pakistan', 'Bangladesh',\n",
       "       'Philippines', 'Mexico', 'Vietnam', 'Colombia', 'Tanzania', 'Kenya',\n",
       "       'Ghana', 'Türkiye', 'Nigeria', 'Morocco', 'Argentina', 'Ethiopia',\n",
       "       'Uganda', 'Yemen, Republic of'],\n",
       "      dtype='object')"
      ]
     },
     "execution_count": 27,
     "metadata": {},
     "output_type": "execute_result"
    }
   ],
   "source": [
    "num_of_projects.index[:20]"
   ]
  },
  {
   "cell_type": "code",
   "execution_count": 25,
   "id": "b6b306fb",
   "metadata": {},
   "outputs": [
    {
     "data": {
      "text/plain": [
       "(array([ 0,  1,  2,  3,  4,  5,  6,  7,  8,  9, 10, 11, 12, 13, 14, 15, 16,\n",
       "        17, 18, 19]),\n",
       " [Text(0, 0, 'India'),\n",
       "  Text(1, 0, 'Indonesia'),\n",
       "  Text(2, 0, 'Brazil'),\n",
       "  Text(3, 0, 'China'),\n",
       "  Text(4, 0, 'Pakistan'),\n",
       "  Text(5, 0, 'Bangladesh'),\n",
       "  Text(6, 0, 'Philippines'),\n",
       "  Text(7, 0, 'Mexico'),\n",
       "  Text(8, 0, 'Vietnam'),\n",
       "  Text(9, 0, 'Colombia'),\n",
       "  Text(10, 0, 'Tanzania'),\n",
       "  Text(11, 0, 'Kenya'),\n",
       "  Text(12, 0, 'Ghana'),\n",
       "  Text(13, 0, 'Türkiye'),\n",
       "  Text(14, 0, 'Nigeria'),\n",
       "  Text(15, 0, 'Morocco'),\n",
       "  Text(16, 0, 'Argentina'),\n",
       "  Text(17, 0, 'Ethiopia'),\n",
       "  Text(18, 0, 'Uganda'),\n",
       "  Text(19, 0, 'Yemen, Republic of')])"
      ]
     },
     "execution_count": 25,
     "metadata": {},
     "output_type": "execute_result"
    },
    {
     "data": {
      "image/png": "[encoded data removed]",
      "text/plain": [
       "<Figure size 2400x1600 with 1 Axes>"
      ]
     },
     "metadata": {
      "needs_background": "light"
     },
     "output_type": "display_data"
    }
   ],
   "source": [
    "# first 20 countries with the highest number of projects\n",
    "plt.figure(figsize =(12,8),dpi=200)\n",
    "sns.barplot( x=num_of_projects.index[:20],y= df['Country'].value_counts().sort_values(ascending=False)[:20] )\n",
    "plt.xticks(rotation=90)"
   ]
  },
  {
   "cell_type": "code",
   "execution_count": 28,
   "id": "77eb47a9",
   "metadata": {},
   "outputs": [
    {
     "data": {
      "text/plain": [
       "array(['Active', 'Closed', nan, 'Pipeline', 'Dropped'], dtype=object)"
      ]
     },
     "execution_count": 28,
     "metadata": {},
     "output_type": "execute_result"
    }
   ],
   "source": [
    "data['status'].unique()"
   ]
  },
  {
   "cell_type": "code",
   "execution_count": 29,
   "id": "f48b3974",
   "metadata": {},
   "outputs": [],
   "source": [
    "data['status'].fillna('not specified',inplace=True)"
   ]
  },
  {
   "cell_type": "code",
   "execution_count": 30,
   "id": "e14f30ee",
   "metadata": {},
   "outputs": [
    {
     "data": {
      "text/plain": [
       "Closed           13862\n",
       "Active            2996\n",
       "Dropped           1448\n",
       "Pipeline           892\n",
       "not specified        5\n",
       "Name: status, dtype: int64"
      ]
     },
     "execution_count": 30,
     "metadata": {},
     "output_type": "execute_result"
    }
   ],
   "source": [
    "data['status'].value_counts()"
   ]
  },
  {
   "cell_type": "code",
   "execution_count": 42,
   "id": "34d93479",
   "metadata": {},
   "outputs": [
    {
     "data": {
      "text/plain": [
       "108.10755674232315"
      ]
     },
     "execution_count": 42,
     "metadata": {},
     "output_type": "execute_result"
    }
   ],
   "source": [
    "# mean of the commitment amount of projects having active status\n",
    "data[data['status']=='Active']['commitment_amount'].mean()"
   ]
  },
  {
   "cell_type": "code",
   "execution_count": 45,
   "id": "ee8ed034",
   "metadata": {},
   "outputs": [
    {
     "data": {
      "text/plain": [
       "60.00774202856734"
      ]
     },
     "execution_count": 45,
     "metadata": {},
     "output_type": "execute_result"
    }
   ],
   "source": [
    "# mean of the commitment amount of projects having Closed status\n",
    "data[data['status']=='Closed']['commitment_amount'].mean()"
   ]
  },
  {
   "cell_type": "markdown",
   "id": "f3152bb0",
   "metadata": {},
   "source": [
    "### There are 13862 closed cases , 2996 active cases, 1448 dropped cases and 892 cases in pipeline state"
   ]
  },
  {
   "cell_type": "code",
   "execution_count": 39,
   "id": "9c7118ff",
   "metadata": {},
   "outputs": [
    {
     "name": "stdout",
     "output_type": "stream",
     "text": [
      "Ghana Active :  43  Closed :  180\n",
      "Costa Rica Active :  6  Closed :  57\n",
      "India Active :  106  Closed :  563\n",
      "Guyana Active :  10  Closed :  43\n",
      "Indonesia Active :  58  Closed :  436\n",
      "St Maarten Active :  12  Closed :  1\n",
      "Eastern and Southern Africa Active :  47  Closed :  28\n",
      "Tonga Active :  16  Closed :  20\n",
      "Solomon Islands Active :  22  Closed :  25\n",
      "Pakistan Active :  75  Closed :  304\n",
      "Gambia, The Active :  19  Closed :  48\n",
      "West Bank and Gaza Active :  44  Closed :  98\n",
      "Ukraine Active :  22  Closed :  69\n",
      "Chad Active :  22  Closed :  67\n",
      "Central Asia Active :  12  Closed :  7\n",
      "Mongolia Active :  23  Closed :  64\n",
      "South Sudan Active :  13  Closed :  33\n",
      "Marshall Islands Active :  12  Closed :  5\n",
      "Somalia Active :  28  Closed :  62\n",
      "Central African Republic Active :  26  Closed :  53\n",
      "Dominica Active :  8  Closed :  9\n",
      "Middle East and North Africa Active :  2  Closed :  10\n",
      "Sierra Leone Active :  33  Closed :  95\n",
      "Afghanistan Active :  41  Closed :  144\n",
      "Senegal Active :  35  Closed :  153\n",
      "Congo, Republic of Active :  24  Closed :  45\n",
      "Nepal Active :  42  Closed :  127\n",
      "Cameroon Active :  25  Closed :  108\n",
      "Moldova Active :  19  Closed :  89\n",
      "Maldives Active :  15  Closed :  23\n",
      "Samoa Active :  12  Closed :  27\n",
      "Uganda Active :  32  Closed :  173\n",
      "Dominican Republic Active :  11  Closed :  63\n",
      "Ethiopia Active :  58  Closed :  149\n",
      "Argentina Active :  36  Closed :  172\n",
      "Mexico Active :  11  Closed :  254\n",
      "Cabo Verde Active :  19  Closed :  39\n",
      "Congo, Democratic Republic of Active :  39  Closed :  129\n",
      "Bangladesh Active :  73  Closed :  262\n",
      "Comoros Active :  12  Closed :  29\n",
      "Djibouti Active :  25  Closed :  44\n",
      "Ecuador Active :  15  Closed :  99\n",
      "Haiti Active :  35  Closed :  86\n",
      "Türkiye Active :  33  Closed :  181\n",
      "Grenada Active :  6  Closed :  20\n",
      "Cambodia Active :  27  Closed :  62\n",
      "Kiribati Active :  13  Closed :  14\n",
      "Madagascar Active :  35  Closed :  152\n",
      "Timor-Leste Active :  8  Closed :  41\n",
      "Malawi Active :  28  Closed :  129\n",
      "Tunisia Active :  24  Closed :  150\n",
      "Uzbekistan Active :  38  Closed :  30\n",
      "Tanzania Active :  29  Closed :  221\n",
      "Morocco Active :  24  Closed :  178\n",
      "Fiji Active :  6  Closed :  12\n",
      "Armenia Active :  24  Closed :  96\n",
      "Western and Central Africa Active :  54  Closed :  62\n",
      "Cote d'Ivoire Active :  33  Closed :  121\n",
      "Lebanon Active :  20  Closed :  50\n",
      "Lao People's Democratic Republic Active :  38  Closed :  89\n",
      "Liberia Active :  35  Closed :  98\n",
      "OECS Countries Active :  7  Closed :  13\n",
      "China Active :  63  Closed :  423\n",
      "Jordan Active :  26  Closed :  97\n",
      "Albania Active :  17  Closed :  97\n",
      "Brazil Active :  38  Closed :  434\n",
      "Iraq Active :  15  Closed :  47\n",
      "Eswatini Active :  8  Closed :  18\n",
      "Sao Tome and Principe Active :  14  Closed :  27\n",
      "Micronesia, Federated States of Active :  11  Closed :  2\n",
      "Kyrgyz Republic Active :  28  Closed :  97\n",
      "Benin Active :  25  Closed :  103\n",
      "Bhutan Active :  11  Closed :  43\n",
      "Rwanda Active :  39  Closed :  103\n",
      "Tuvalu Active :  14  Closed :  4\n",
      "Niger Active :  32  Closed :  95\n",
      "South Africa Active :  7  Closed :  32\n",
      "Bosnia and Herzegovina Active :  12  Closed :  86\n",
      "St. Vincent and the Grenadines Active :  6  Closed :  9\n",
      "Kenya Active :  45  Closed :  199\n",
      "Peru Active :  21  Closed :  155\n",
      "Togo Active :  15  Closed :  80\n",
      "Yemen, Republic of Active :  19  Closed :  187\n",
      "Angola Active :  17  Closed :  22\n",
      "Panama Active :  5  Closed :  66\n",
      "Colombia Active :  22  Closed :  237\n",
      "Serbia Active :  19  Closed :  60\n",
      "Georgia Active :  19  Closed :  87\n",
      "Kosovo Active :  16  Closed :  46\n",
      "Nigeria Active :  42  Closed :  173\n",
      "Vanuatu Active :  8  Closed :  11\n",
      "World Active :  21  Closed :  89\n",
      "Belize Active :  3  Closed :  16\n",
      "Vietnam Active :  48  Closed :  214\n",
      "Tajikistan Active :  33  Closed :  77\n",
      "Zimbabwe Active :  10  Closed :  40\n",
      "Lesotho Active :  13  Closed :  51\n",
      "Africa Active :  7  Closed :  158\n",
      "Uruguay Active :  6  Closed :  72\n",
      "South Asia Active :  5  Closed :  11\n",
      "Guinea-Bissau Active :  11  Closed :  38\n",
      "Mauritania Active :  16  Closed :  85\n",
      "Burundi Active :  17  Closed :  84\n",
      "Iran, Islamic Republic of Active :  2  Closed :  48\n",
      "Philippines Active :  23  Closed :  237\n",
      "Mozambique Active :  59  Closed :  117\n",
      "Zambia Active :  21  Closed :  123\n",
      "El Salvador Active :  7  Closed :  57\n",
      "Seychelles Active :  2  Closed :  14\n",
      "Honduras Active :  18  Closed :  112\n",
      "Kazakhstan Active :  7  Closed :  49\n",
      "Poland Active :  2  Closed :  50\n",
      "Burkina Faso Active :  34  Closed :  119\n",
      "Croatia Active :  7  Closed :  61\n",
      "Egypt, Arab Republic of Active :  18  Closed :  135\n",
      "Latin America Active :  3  Closed :  18\n",
      "Gabon Active :  8  Closed :  24\n",
      "Mali Active :  31  Closed :  107\n",
      "Sri Lanka Active :  24  Closed :  135\n",
      "Guatemala Active :  7  Closed :  64\n",
      "Multi-Regional Active :  1  Closed :  1\n",
      "St. Lucia Active :  8  Closed :  16\n",
      "Turkmenistan Active :  1  Closed :  6\n",
      "East Asia and Pacific Active :  2  Closed :  9\n",
      "Guinea Active :  20  Closed :  84\n",
      "Papua New Guinea Active :  12  Closed :  59\n",
      "Barbados Active :  1  Closed :  10\n",
      "Jamaica Active :  8  Closed :  82\n",
      "Caribbean Active :  5  Closed :  22\n",
      "Sudan Active :  10  Closed :  81\n",
      "Botswana Active :  3  Closed :  27\n",
      "Romania Active :  11  Closed :  99\n",
      "Bahamas, The Active :  1  Closed :  5\n",
      "Azerbaijan Active :  7  Closed :  60\n",
      "Southern Africa Active :  8  Closed :  3\n",
      "Nicaragua Active :  15  Closed :  115\n",
      "North Macedonia Active :  11  Closed :  56\n",
      "Myanmar Active :  17  Closed :  37\n",
      "Western Balkans Active :  2  Closed :  7\n",
      "Trinidad and Tobago Active :  1  Closed :  21\n",
      "Belarus Active :  11  Closed :  25\n",
      "Bolivia Active :  9  Closed :  111\n",
      "Paraguay Active :  6  Closed :  60\n",
      "Montenegro Active :  5  Closed :  23\n",
      "Pacific Islands Active :  8  Closed :  8\n",
      "Thailand Active :  1  Closed :  147\n",
      "Chile Active :  3  Closed :  70\n",
      "Central Africa Active :  2  Closed :  2\n",
      "Suriname Active :  2  Closed :  1\n",
      "Europe and Central Asia Active :  4  Closed :  15\n",
      "Palau Active :  1  Closed :  1\n",
      "Mauritius Active :  1  Closed :  45\n",
      "Namibia Active :  1  Closed :  8\n",
      "Bulgaria Active :  0  Closed :  45\n",
      "Caucasus Active :  0  Closed :  2\n",
      "Russian Federation Active :  1  Closed :  65\n",
      "Antigua and Barbuda Active :  0  Closed :  1\n",
      "Central America Active :  0  Closed :  10\n",
      "Libya Active :  0  Closed :  1\n",
      "Czech Republic Active :  0  Closed :  8\n",
      "Latvia Active :  0  Closed :  21\n",
      "Mekong Active :  0  Closed :  2\n",
      "American Samoa Active :  0  Closed :  1\n",
      "Syrian Arab Republic Active :  0  Closed :  26\n",
      "Asia Active :  0  Closed :  4\n",
      "Andean Countries Active :  0  Closed :  3\n",
      "Hungary Active :  0  Closed :  34\n",
      "Equatorial Guinea Active :  0  Closed :  8\n",
      "Algeria Active :  0  Closed :  64\n",
      "Malaysia Active :  0  Closed :  72\n",
      "Eritrea Active :  0  Closed :  19\n",
      "Mercosur Active :  0  Closed :  1\n",
      "Slovak Republic Active :  0  Closed :  11\n",
      "Venezuela, Republica Bolivariana de Active :  0  Closed :  33\n",
      "Lithuania Active :  0  Closed :  17\n",
      "St. Kitts and Nevis Active :  0  Closed :  4\n",
      "Korea, Republic of Active :  0  Closed :  100\n",
      "Slovenia Active :  0  Closed :  7\n",
      "Estonia Active :  0  Closed :  5\n",
      "Red Sea and Gulf of Aden Active :  0  Closed :  1\n",
      "Aral Sea Active :  0  Closed :  2\n",
      "Cyprus Active :  0  Closed :  24\n",
      "Yugoslavia, former Active :  0  Closed :  70\n",
      "Portugal Active :  0  Closed :  28\n",
      "Oman Active :  0  Closed :  10\n",
      "Greece Active :  0  Closed :  16\n",
      "Spain Active :  0  Closed :  12\n",
      "Ireland Active :  0  Closed :  8\n",
      "Singapore Active :  0  Closed :  14\n",
      "Israel Active :  0  Closed :  10\n",
      "Finland Active :  0  Closed :  18\n",
      "Iceland Active :  0  Closed :  10\n",
      "New Zealand Active :  0  Closed :  6\n",
      "Taiwan, China Active :  0  Closed :  18\n",
      "Japan Active :  0  Closed :  31\n",
      "Italy Active :  0  Closed :  8\n",
      "Norway Active :  0  Closed :  6\n",
      "Malta Active :  0  Closed :  1\n",
      "Denmark Active :  0  Closed :  3\n",
      "Austria Active :  0  Closed :  9\n",
      "Australia Active :  0  Closed :  7\n",
      "Belgium Active :  0  Closed :  4\n",
      "Netherlands Active :  0  Closed :  8\n",
      "Luxembourg Active :  0  Closed :  1\n",
      "France Active :  0  Closed :  1\n",
      "South East Asia Active :  0  Closed :  0\n",
      "nan Active :  0  Closed :  0\n",
      "EU Accession Countries Active :  0  Closed :  0\n"
     ]
    }
   ],
   "source": [
    "# checking the number of active and closed cases in each country\n",
    "for i in cols:\n",
    "    print(i, 'Active : ',len(data[(data['Country']==i)& (data['status']=='Active')]),' Closed : ',\n",
    "         len(data[(data['Country']==i)& (data['status']=='Closed')]))"
   ]
  },
  {
   "cell_type": "markdown",
   "id": "6cfc8935",
   "metadata": {},
   "source": [
    "# part 2 - analysis on the second global projects dataset"
   ]
  },
  {
   "cell_type": "code",
   "execution_count": 40,
   "id": "e06b81f3",
   "metadata": {},
   "outputs": [],
   "source": [
    "df= pd.read_excel('World_Bank_Projects_downloaded_6_13_2022.xls')"
   ]
  },
  {
   "cell_type": "code",
   "execution_count": 41,
   "id": "019ee147",
   "metadata": {},
   "outputs": [],
   "source": [
    "df.columns = df.iloc[0]\n",
    "df.drop(df.index[[0,1]],inplace =True)"
   ]
  },
  {
   "cell_type": "code",
   "execution_count": 43,
   "id": "a0063eeb",
   "metadata": {},
   "outputs": [
    {
     "data": {
      "text/html": [
       "<div>\n",
       "<style scoped>\n",
       "    .dataframe tbody tr th:only-of-type {\n",
       "        vertical-align: middle;\n",
       "    }\n",
       "\n",
       "    .dataframe tbody tr th {\n",
       "        vertical-align: top;\n",
       "    }\n",
       "\n",
       "    .dataframe thead th {\n",
       "        text-align: right;\n",
       "    }\n",
       "</style>\n",
       "<table border=\"1\" class=\"dataframe\">\n",
       "  <thead>\n",
       "    <tr style=\"text-align: right;\">\n",
       "      <th></th>\n",
       "      <th>Project ID</th>\n",
       "      <th>Region</th>\n",
       "      <th>Country</th>\n",
       "      <th>Project Status</th>\n",
       "      <th>Last Stage Reached Name</th>\n",
       "      <th>Project Name</th>\n",
       "      <th>Project Development Objective</th>\n",
       "      <th>Implementing Agency</th>\n",
       "      <th>Consultant Services Required</th>\n",
       "      <th>Project URL</th>\n",
       "      <th>...</th>\n",
       "      <th>Grant Amount</th>\n",
       "      <th>Borrower</th>\n",
       "      <th>Lending Instrument</th>\n",
       "      <th>Environmental Assessment Category</th>\n",
       "      <th>Environmental and Social Risk</th>\n",
       "      <th>Sector 1</th>\n",
       "      <th>Sector 2</th>\n",
       "      <th>Sector 3</th>\n",
       "      <th>Theme 1</th>\n",
       "      <th>Theme 2</th>\n",
       "    </tr>\n",
       "  </thead>\n",
       "  <tbody>\n",
       "    <tr>\n",
       "      <th>2</th>\n",
       "      <td>P252350</td>\n",
       "      <td>Eastern and Southern Africa</td>\n",
       "      <td>Republic of Rwanda</td>\n",
       "      <td>Active</td>\n",
       "      <td>Bank Approved</td>\n",
       "      <td>Rwanda Priority Skills for Growth (PSG)</td>\n",
       "      <td>The Program Development Objective is to expand...</td>\n",
       "      <td>Ministry Of Education</td>\n",
       "      <td>NaN</td>\n",
       "      <td>http://projects.worldbank.org/P252350/null?lan...</td>\n",
       "      <td>...</td>\n",
       "      <td>0</td>\n",
       "      <td>Ministry of Finance and Economic Planning</td>\n",
       "      <td>Program-for-Results Financing</td>\n",
       "      <td>NaN</td>\n",
       "      <td>NaN</td>\n",
       "      <td>Public Administration - Education</td>\n",
       "      <td>Tertiary Education</td>\n",
       "      <td>Workforce Development and Vocational Education</td>\n",
       "      <td>Education for the knowledge economy</td>\n",
       "      <td>NaN</td>\n",
       "    </tr>\n",
       "    <tr>\n",
       "      <th>3</th>\n",
       "      <td>P252338</td>\n",
       "      <td>East Asia and Pacific</td>\n",
       "      <td>Democratic Republic of Timor-Leste</td>\n",
       "      <td>Active</td>\n",
       "      <td>Bank Approved</td>\n",
       "      <td>Road Climate Resilience Project Second Additio...</td>\n",
       "      <td>The project will deliver sustainable climate r...</td>\n",
       "      <td>Ministry of Public Works, Transport, and Commu...</td>\n",
       "      <td>NaN</td>\n",
       "      <td>http://projects.worldbank.org/P252338/null?lan...</td>\n",
       "      <td>...</td>\n",
       "      <td>0</td>\n",
       "      <td>Ministry of Finance</td>\n",
       "      <td>Investment Project Financing</td>\n",
       "      <td>B</td>\n",
       "      <td>NaN</td>\n",
       "      <td>Public Administration - Transportation</td>\n",
       "      <td>Rural and Inter-Urban Roads</td>\n",
       "      <td>NaN</td>\n",
       "      <td>NaN</td>\n",
       "      <td>NaN</td>\n",
       "    </tr>\n",
       "    <tr>\n",
       "      <th>4</th>\n",
       "      <td>P252337</td>\n",
       "      <td>Eastern and Southern Africa</td>\n",
       "      <td>Republic of Kenya</td>\n",
       "      <td>Dropped</td>\n",
       "      <td>Concept Review</td>\n",
       "      <td>Kenya Devolution and Service Delivery</td>\n",
       "      <td>To improve citizen and government access to co...</td>\n",
       "      <td>Kenya National Bureau of Statistics</td>\n",
       "      <td>NaN</td>\n",
       "      <td>http://projects.worldbank.org/P252337/null?lan...</td>\n",
       "      <td>...</td>\n",
       "      <td>340000</td>\n",
       "      <td>Kenya National Bureau of Statistics</td>\n",
       "      <td>Investment Project Financing</td>\n",
       "      <td>C</td>\n",
       "      <td>NaN</td>\n",
       "      <td>NaN</td>\n",
       "      <td>NaN</td>\n",
       "      <td>NaN</td>\n",
       "      <td>Public expenditure, financial management and p...</td>\n",
       "      <td>Decentralization</td>\n",
       "    </tr>\n",
       "    <tr>\n",
       "      <th>5</th>\n",
       "      <td>P179254</td>\n",
       "      <td>Western and Central Africa</td>\n",
       "      <td>Republic of Cameroon</td>\n",
       "      <td>Pipeline</td>\n",
       "      <td>NaN</td>\n",
       "      <td>Cameroon Health System Strengthening Project</td>\n",
       "      <td>To increase utilization and quality of reprodu...</td>\n",
       "      <td>NaN</td>\n",
       "      <td>NaN</td>\n",
       "      <td>http://projects.worldbank.org/P179254/null?lan...</td>\n",
       "      <td>...</td>\n",
       "      <td>0</td>\n",
       "      <td>NaN</td>\n",
       "      <td>Investment Project Financing</td>\n",
       "      <td>NaN</td>\n",
       "      <td>NaN</td>\n",
       "      <td>NaN</td>\n",
       "      <td>NaN</td>\n",
       "      <td>NaN</td>\n",
       "      <td>NaN</td>\n",
       "      <td>NaN</td>\n",
       "    </tr>\n",
       "    <tr>\n",
       "      <th>6</th>\n",
       "      <td>P179238</td>\n",
       "      <td>Western and Central Africa</td>\n",
       "      <td>Republic of Chad</td>\n",
       "      <td>Pipeline</td>\n",
       "      <td>NaN</td>\n",
       "      <td>Chad Agribusiness and Rural Transformation Pro...</td>\n",
       "      <td>The project Development Objective (PDO) is \"to...</td>\n",
       "      <td>NaN</td>\n",
       "      <td>NaN</td>\n",
       "      <td>http://projects.worldbank.org/P179238/null?lan...</td>\n",
       "      <td>...</td>\n",
       "      <td>0</td>\n",
       "      <td>NaN</td>\n",
       "      <td>Investment Project Financing</td>\n",
       "      <td>NaN</td>\n",
       "      <td>NaN</td>\n",
       "      <td>NaN</td>\n",
       "      <td>NaN</td>\n",
       "      <td>NaN</td>\n",
       "      <td>NaN</td>\n",
       "      <td>NaN</td>\n",
       "    </tr>\n",
       "  </tbody>\n",
       "</table>\n",
       "<p>5 rows × 27 columns</p>\n",
       "</div>"
      ],
      "text/plain": [
       "0 Project ID                       Region                             Country  \\\n",
       "2    P252350  Eastern and Southern Africa                  Republic of Rwanda   \n",
       "3    P252338        East Asia and Pacific  Democratic Republic of Timor-Leste   \n",
       "4    P252337  Eastern and Southern Africa                   Republic of Kenya   \n",
       "5    P179254   Western and Central Africa                Republic of Cameroon   \n",
       "6    P179238   Western and Central Africa                    Republic of Chad   \n",
       "\n",
       "0 Project Status Last Stage Reached Name  \\\n",
       "2         Active           Bank Approved   \n",
       "3         Active           Bank Approved   \n",
       "4        Dropped          Concept Review   \n",
       "5       Pipeline                     NaN   \n",
       "6       Pipeline                     NaN   \n",
       "\n",
       "0                                       Project Name  \\\n",
       "2            Rwanda Priority Skills for Growth (PSG)   \n",
       "3  Road Climate Resilience Project Second Additio...   \n",
       "4              Kenya Devolution and Service Delivery   \n",
       "5       Cameroon Health System Strengthening Project   \n",
       "6  Chad Agribusiness and Rural Transformation Pro...   \n",
       "\n",
       "0                     Project Development Objective   \\\n",
       "2  The Program Development Objective is to expand...   \n",
       "3  The project will deliver sustainable climate r...   \n",
       "4  To improve citizen and government access to co...   \n",
       "5  To increase utilization and quality of reprodu...   \n",
       "6  The project Development Objective (PDO) is \"to...   \n",
       "\n",
       "0                                Implementing Agency  \\\n",
       "2                              Ministry Of Education   \n",
       "3  Ministry of Public Works, Transport, and Commu...   \n",
       "4                Kenya National Bureau of Statistics   \n",
       "5                                                NaN   \n",
       "6                                                NaN   \n",
       "\n",
       "0 Consultant Services Required  \\\n",
       "2                          NaN   \n",
       "3                          NaN   \n",
       "4                          NaN   \n",
       "5                          NaN   \n",
       "6                          NaN   \n",
       "\n",
       "0                                        Project URL  ... Grant Amount  \\\n",
       "2  http://projects.worldbank.org/P252350/null?lan...  ...            0   \n",
       "3  http://projects.worldbank.org/P252338/null?lan...  ...            0   \n",
       "4  http://projects.worldbank.org/P252337/null?lan...  ...       340000   \n",
       "5  http://projects.worldbank.org/P179254/null?lan...  ...            0   \n",
       "6  http://projects.worldbank.org/P179238/null?lan...  ...            0   \n",
       "\n",
       "0                                   Borrower             Lending Instrument  \\\n",
       "2  Ministry of Finance and Economic Planning  Program-for-Results Financing   \n",
       "3                        Ministry of Finance   Investment Project Financing   \n",
       "4        Kenya National Bureau of Statistics   Investment Project Financing   \n",
       "5                                        NaN   Investment Project Financing   \n",
       "6                                        NaN   Investment Project Financing   \n",
       "\n",
       "0 Environmental Assessment Category Environmental and Social Risk  \\\n",
       "2                               NaN                           NaN   \n",
       "3                                 B                           NaN   \n",
       "4                                 C                           NaN   \n",
       "5                               NaN                           NaN   \n",
       "6                               NaN                           NaN   \n",
       "\n",
       "0                                Sector 1                     Sector 2  \\\n",
       "2       Public Administration - Education           Tertiary Education   \n",
       "3  Public Administration - Transportation  Rural and Inter-Urban Roads   \n",
       "4                                     NaN                          NaN   \n",
       "5                                     NaN                          NaN   \n",
       "6                                     NaN                          NaN   \n",
       "\n",
       "0                                        Sector 3  \\\n",
       "2  Workforce Development and Vocational Education   \n",
       "3                                             NaN   \n",
       "4                                             NaN   \n",
       "5                                             NaN   \n",
       "6                                             NaN   \n",
       "\n",
       "0                                            Theme 1           Theme 2  \n",
       "2                Education for the knowledge economy               NaN  \n",
       "3                                                NaN               NaN  \n",
       "4  Public expenditure, financial management and p...  Decentralization  \n",
       "5                                                NaN               NaN  \n",
       "6                                                NaN               NaN  \n",
       "\n",
       "[5 rows x 27 columns]"
      ]
     },
     "execution_count": 43,
     "metadata": {},
     "output_type": "execute_result"
    }
   ],
   "source": [
    "df.head()"
   ]
  },
  {
   "cell_type": "code",
   "execution_count": 44,
   "id": "82f53534",
   "metadata": {},
   "outputs": [
    {
     "data": {
      "text/plain": [
       "Index(['Project ID', 'Region', 'Country', 'Project Status',\n",
       "       'Last Stage Reached Name', 'Project Name',\n",
       "       'Project Development Objective ', 'Implementing Agency',\n",
       "       'Consultant Services Required', 'Project URL', 'Board Approval Date',\n",
       "       'Project Closing Date', 'Financing Type', 'Current Project Cost',\n",
       "       'IBRD Commitment ', 'IDA Commitment', 'Total IDA and IBRD Commitment',\n",
       "       'Grant Amount', 'Borrower', 'Lending Instrument',\n",
       "       'Environmental Assessment Category', 'Environmental and Social Risk',\n",
       "       'Sector 1', 'Sector 2', 'Sector 3', 'Theme 1', 'Theme 2'],\n",
       "      dtype='object', name=0)"
      ]
     },
     "execution_count": 44,
     "metadata": {},
     "output_type": "execute_result"
    }
   ],
   "source": [
    "df.columns"
   ]
  },
  {
   "cell_type": "code",
   "execution_count": 50,
   "id": "3d32a200",
   "metadata": {},
   "outputs": [],
   "source": [
    "df['Grant Amount'].fillna('0',inplace=True)\n",
    "df['Total IDA and IBRD Commitment'].fillna('0',inplace=True)\n",
    "df['IBRD Commitment '].fillna('0',inplace=True)\n",
    "df['Current Project Cost'].fillna('0',inplace=True)\n",
    "df['IDA Commitment'].fillna('0',inplace=True)"
   ]
  },
  {
   "cell_type": "code",
   "execution_count": 51,
   "id": "3c99b50a",
   "metadata": {},
   "outputs": [],
   "source": [
    "df[['Grant Amount','Total IDA and IBRD Commitment','IBRD Commitment ','Current Project Cost','IDA Commitment']] = df[['Grant Amount','Total IDA and IBRD Commitment','IBRD Commitment ','Current Project Cost','IDA Commitment']].astype(int)"
   ]
  },
  {
   "cell_type": "markdown",
   "id": "d74fcba7",
   "metadata": {},
   "source": [
    "## statistics of numerical data in the dataset"
   ]
  },
  {
   "cell_type": "code",
   "execution_count": 54,
   "id": "76f99514",
   "metadata": {},
   "outputs": [
    {
     "data": {
      "text/html": [
       "<div>\n",
       "<style scoped>\n",
       "    .dataframe tbody tr th:only-of-type {\n",
       "        vertical-align: middle;\n",
       "    }\n",
       "\n",
       "    .dataframe tbody tr th {\n",
       "        vertical-align: top;\n",
       "    }\n",
       "\n",
       "    .dataframe thead th {\n",
       "        text-align: right;\n",
       "    }\n",
       "</style>\n",
       "<table border=\"1\" class=\"dataframe\">\n",
       "  <thead>\n",
       "    <tr style=\"text-align: right;\">\n",
       "      <th></th>\n",
       "      <th>Current Project Cost</th>\n",
       "      <th>IBRD Commitment</th>\n",
       "      <th>IDA Commitment</th>\n",
       "      <th>Total IDA and IBRD Commitment</th>\n",
       "      <th>Grant Amount</th>\n",
       "    </tr>\n",
       "  </thead>\n",
       "  <tbody>\n",
       "    <tr>\n",
       "      <th>count</th>\n",
       "      <td>2.154300e+04</td>\n",
       "      <td>2.154300e+04</td>\n",
       "      <td>2.154300e+04</td>\n",
       "      <td>2.154300e+04</td>\n",
       "      <td>2.154300e+04</td>\n",
       "    </tr>\n",
       "    <tr>\n",
       "      <th>mean</th>\n",
       "      <td>2.272625e+08</td>\n",
       "      <td>4.527161e+07</td>\n",
       "      <td>2.748535e+07</td>\n",
       "      <td>7.275697e+07</td>\n",
       "      <td>1.931961e+06</td>\n",
       "    </tr>\n",
       "    <tr>\n",
       "      <th>std</th>\n",
       "      <td>1.047889e+10</td>\n",
       "      <td>1.228060e+08</td>\n",
       "      <td>7.017955e+07</td>\n",
       "      <td>1.341696e+08</td>\n",
       "      <td>3.921082e+07</td>\n",
       "    </tr>\n",
       "    <tr>\n",
       "      <th>min</th>\n",
       "      <td>0.000000e+00</td>\n",
       "      <td>0.000000e+00</td>\n",
       "      <td>0.000000e+00</td>\n",
       "      <td>0.000000e+00</td>\n",
       "      <td>0.000000e+00</td>\n",
       "    </tr>\n",
       "    <tr>\n",
       "      <th>25%</th>\n",
       "      <td>9.700000e+06</td>\n",
       "      <td>0.000000e+00</td>\n",
       "      <td>0.000000e+00</td>\n",
       "      <td>5.000000e+06</td>\n",
       "      <td>0.000000e+00</td>\n",
       "    </tr>\n",
       "    <tr>\n",
       "      <th>50%</th>\n",
       "      <td>3.200000e+07</td>\n",
       "      <td>0.000000e+00</td>\n",
       "      <td>0.000000e+00</td>\n",
       "      <td>2.500000e+07</td>\n",
       "      <td>0.000000e+00</td>\n",
       "    </tr>\n",
       "    <tr>\n",
       "      <th>75%</th>\n",
       "      <td>1.004000e+08</td>\n",
       "      <td>3.130000e+07</td>\n",
       "      <td>2.200000e+07</td>\n",
       "      <td>8.400000e+07</td>\n",
       "      <td>0.000000e+00</td>\n",
       "    </tr>\n",
       "    <tr>\n",
       "      <th>max</th>\n",
       "      <td>1.530250e+12</td>\n",
       "      <td>3.750000e+09</td>\n",
       "      <td>1.375000e+09</td>\n",
       "      <td>3.750000e+09</td>\n",
       "      <td>5.330000e+09</td>\n",
       "    </tr>\n",
       "  </tbody>\n",
       "</table>\n",
       "</div>"
      ],
      "text/plain": [
       "0      Current Project Cost  IBRD Commitment   IDA Commitment  \\\n",
       "count          2.154300e+04      2.154300e+04    2.154300e+04   \n",
       "mean           2.272625e+08      4.527161e+07    2.748535e+07   \n",
       "std            1.047889e+10      1.228060e+08    7.017955e+07   \n",
       "min            0.000000e+00      0.000000e+00    0.000000e+00   \n",
       "25%            9.700000e+06      0.000000e+00    0.000000e+00   \n",
       "50%            3.200000e+07      0.000000e+00    0.000000e+00   \n",
       "75%            1.004000e+08      3.130000e+07    2.200000e+07   \n",
       "max            1.530250e+12      3.750000e+09    1.375000e+09   \n",
       "\n",
       "0      Total IDA and IBRD Commitment  Grant Amount  \n",
       "count                   2.154300e+04  2.154300e+04  \n",
       "mean                    7.275697e+07  1.931961e+06  \n",
       "std                     1.341696e+08  3.921082e+07  \n",
       "min                     0.000000e+00  0.000000e+00  \n",
       "25%                     5.000000e+06  0.000000e+00  \n",
       "50%                     2.500000e+07  0.000000e+00  \n",
       "75%                     8.400000e+07  0.000000e+00  \n",
       "max                     3.750000e+09  5.330000e+09  "
      ]
     },
     "execution_count": 54,
     "metadata": {},
     "output_type": "execute_result"
    }
   ],
   "source": [
    "df.describe()"
   ]
  },
  {
   "cell_type": "markdown",
   "id": "cb86e46f",
   "metadata": {},
   "source": [
    "# Bar plot representing the missing values present in each column"
   ]
  },
  {
   "cell_type": "code",
   "execution_count": 99,
   "id": "c697156a",
   "metadata": {
    "scrolled": true
   },
   "outputs": [
    {
     "data": {
      "text/plain": [
       "(array([ 0,  1,  2,  3,  4,  5,  6,  7,  8,  9, 10, 11, 12, 13, 14, 15, 16,\n",
       "        17, 18, 19, 20, 21, 22, 23, 24, 25, 26]),\n",
       " [Text(0, 0, 'Environmental and Social Risk'),\n",
       "  Text(1, 0, 'Consultant Services Required'),\n",
       "  Text(2, 0, 'Borrower'),\n",
       "  Text(3, 0, 'Implementing Agency'),\n",
       "  Text(4, 0, 'Sector 3'),\n",
       "  Text(5, 0, 'Theme 2'),\n",
       "  Text(6, 0, 'Sector 2'),\n",
       "  Text(7, 0, 'Project Development Objective '),\n",
       "  Text(8, 0, 'Theme 1'),\n",
       "  Text(9, 0, 'Financing Type'),\n",
       "  Text(10, 0, 'Environmental Assessment Category'),\n",
       "  Text(11, 0, 'Last Stage Reached Name'),\n",
       "  Text(12, 0, 'Project Closing Date'),\n",
       "  Text(13, 0, 'Board Approval Date'),\n",
       "  Text(14, 0, 'Sector 1'),\n",
       "  Text(15, 0, 'Lending Instrument'),\n",
       "  Text(16, 0, 'Project Status'),\n",
       "  Text(17, 0, 'Region'),\n",
       "  Text(18, 0, 'Country'),\n",
       "  Text(19, 0, 'Project URL'),\n",
       "  Text(20, 0, 'Project Name'),\n",
       "  Text(21, 0, 'Project ID'),\n",
       "  Text(22, 0, 'Grant Amount'),\n",
       "  Text(23, 0, 'Total IDA and IBRD Commitment'),\n",
       "  Text(24, 0, 'IDA Commitment'),\n",
       "  Text(25, 0, 'IBRD Commitment '),\n",
       "  Text(26, 0, 'Current Project Cost')])"
      ]
     },
     "execution_count": 99,
     "metadata": {},
     "output_type": "execute_result"
    },
    {
     "data": {
      "image/png": "[encoded data removed]",
      "text/plain": [
       "<Figure size 864x576 with 1 Axes>"
      ]
     },
     "metadata": {
      "needs_background": "light"
     },
     "output_type": "display_data"
    }
   ],
   "source": [
    "plt.figure(figsize=(12,8))\n",
    "sns.barplot(x= df.isnull().sum().sort_values(ascending=False).index , y = df.isnull().sum().sort_values(ascending=False))\n",
    "plt.xticks(rotation=90)"
   ]
  },
  {
   "cell_type": "code",
   "execution_count": 62,
   "id": "8257860f",
   "metadata": {},
   "outputs": [
    {
     "data": {
      "text/html": [
       "<div>\n",
       "<style scoped>\n",
       "    .dataframe tbody tr th:only-of-type {\n",
       "        vertical-align: middle;\n",
       "    }\n",
       "\n",
       "    .dataframe tbody tr th {\n",
       "        vertical-align: top;\n",
       "    }\n",
       "\n",
       "    .dataframe thead th {\n",
       "        text-align: right;\n",
       "    }\n",
       "</style>\n",
       "<table border=\"1\" class=\"dataframe\">\n",
       "  <thead>\n",
       "    <tr style=\"text-align: right;\">\n",
       "      <th></th>\n",
       "      <th>count</th>\n",
       "      <th>mean</th>\n",
       "      <th>std</th>\n",
       "      <th>min</th>\n",
       "      <th>25%</th>\n",
       "      <th>50%</th>\n",
       "      <th>75%</th>\n",
       "      <th>max</th>\n",
       "    </tr>\n",
       "    <tr>\n",
       "      <th>0</th>\n",
       "      <th></th>\n",
       "      <th></th>\n",
       "      <th></th>\n",
       "      <th></th>\n",
       "      <th></th>\n",
       "      <th></th>\n",
       "      <th></th>\n",
       "      <th></th>\n",
       "    </tr>\n",
       "  </thead>\n",
       "  <tbody>\n",
       "    <tr>\n",
       "      <th>Current Project Cost</th>\n",
       "      <td>21543.0</td>\n",
       "      <td>2.272625e+08</td>\n",
       "      <td>1.047889e+10</td>\n",
       "      <td>0.0</td>\n",
       "      <td>9700000.0</td>\n",
       "      <td>32000000.0</td>\n",
       "      <td>100400000.0</td>\n",
       "      <td>1.530250e+12</td>\n",
       "    </tr>\n",
       "    <tr>\n",
       "      <th>IBRD Commitment</th>\n",
       "      <td>21543.0</td>\n",
       "      <td>4.527161e+07</td>\n",
       "      <td>1.228060e+08</td>\n",
       "      <td>0.0</td>\n",
       "      <td>0.0</td>\n",
       "      <td>0.0</td>\n",
       "      <td>31300000.0</td>\n",
       "      <td>3.750000e+09</td>\n",
       "    </tr>\n",
       "    <tr>\n",
       "      <th>IDA Commitment</th>\n",
       "      <td>21543.0</td>\n",
       "      <td>2.748535e+07</td>\n",
       "      <td>7.017955e+07</td>\n",
       "      <td>0.0</td>\n",
       "      <td>0.0</td>\n",
       "      <td>0.0</td>\n",
       "      <td>22000000.0</td>\n",
       "      <td>1.375000e+09</td>\n",
       "    </tr>\n",
       "    <tr>\n",
       "      <th>Total IDA and IBRD Commitment</th>\n",
       "      <td>21543.0</td>\n",
       "      <td>7.275697e+07</td>\n",
       "      <td>1.341696e+08</td>\n",
       "      <td>0.0</td>\n",
       "      <td>5000000.0</td>\n",
       "      <td>25000000.0</td>\n",
       "      <td>84000000.0</td>\n",
       "      <td>3.750000e+09</td>\n",
       "    </tr>\n",
       "    <tr>\n",
       "      <th>Grant Amount</th>\n",
       "      <td>21543.0</td>\n",
       "      <td>1.931961e+06</td>\n",
       "      <td>3.921082e+07</td>\n",
       "      <td>0.0</td>\n",
       "      <td>0.0</td>\n",
       "      <td>0.0</td>\n",
       "      <td>0.0</td>\n",
       "      <td>5.330000e+09</td>\n",
       "    </tr>\n",
       "  </tbody>\n",
       "</table>\n",
       "</div>"
      ],
      "text/plain": [
       "                                 count          mean           std  min  \\\n",
       "0                                                                         \n",
       "Current Project Cost           21543.0  2.272625e+08  1.047889e+10  0.0   \n",
       "IBRD Commitment                21543.0  4.527161e+07  1.228060e+08  0.0   \n",
       "IDA Commitment                 21543.0  2.748535e+07  7.017955e+07  0.0   \n",
       "Total IDA and IBRD Commitment  21543.0  7.275697e+07  1.341696e+08  0.0   \n",
       "Grant Amount                   21543.0  1.931961e+06  3.921082e+07  0.0   \n",
       "\n",
       "                                     25%         50%          75%  \\\n",
       "0                                                                   \n",
       "Current Project Cost           9700000.0  32000000.0  100400000.0   \n",
       "IBRD Commitment                      0.0         0.0   31300000.0   \n",
       "IDA Commitment                       0.0         0.0   22000000.0   \n",
       "Total IDA and IBRD Commitment  5000000.0  25000000.0   84000000.0   \n",
       "Grant Amount                         0.0         0.0          0.0   \n",
       "\n",
       "                                        max  \n",
       "0                                            \n",
       "Current Project Cost           1.530250e+12  \n",
       "IBRD Commitment                3.750000e+09  \n",
       "IDA Commitment                 1.375000e+09  \n",
       "Total IDA and IBRD Commitment  3.750000e+09  \n",
       "Grant Amount                   5.330000e+09  "
      ]
     },
     "execution_count": 62,
     "metadata": {},
     "output_type": "execute_result"
    }
   ],
   "source": [
    "df.describe().transpose()"
   ]
  },
  {
   "cell_type": "markdown",
   "id": "ecfe7c1c",
   "metadata": {},
   "source": [
    "# factorplot on the mean of numerical data"
   ]
  },
  {
   "cell_type": "code",
   "execution_count": 65,
   "id": "174e1881",
   "metadata": {},
   "outputs": [
    {
     "name": "stderr",
     "output_type": "stream",
     "text": [
      "/Users/isita/Downloads/anaconda3/lib/python3.8/site-packages/seaborn/categorical.py:3714: UserWarning: The `factorplot` function has been renamed to `catplot`. The original name will be removed in a future release. Please update your code. Note that the default `kind` in `factorplot` (`'point'`) has changed `'strip'` in `catplot`.\n",
      "  warnings.warn(msg)\n"
     ]
    },
    {
     "data": {
      "text/plain": [
       "(array([0, 1, 2, 3, 4]),\n",
       " [Text(0, 0, 'Current Project Cost'),\n",
       "  Text(1, 0, 'IBRD Commitment '),\n",
       "  Text(2, 0, 'IDA Commitment'),\n",
       "  Text(3, 0, 'Total IDA and IBRD Commitment'),\n",
       "  Text(4, 0, 'Grant Amount')])"
      ]
     },
     "execution_count": 65,
     "metadata": {},
     "output_type": "execute_result"
    },
    {
     "data": {
      "text/plain": [
       "<Figure size 864x576 with 0 Axes>"
      ]
     },
     "metadata": {},
     "output_type": "display_data"
    },
    {
     "data": {
      "image/png": "[encoded data removed]",
      "text/plain": [
       "<Figure size 360x360 with 1 Axes>"
      ]
     },
     "metadata": {
      "needs_background": "light"
     },
     "output_type": "display_data"
    }
   ],
   "source": [
    "plt.figure(figsize=(12,8))\n",
    "sns.factorplot(x= df.describe().transpose().index, y= 'mean', data= df.describe().transpose(), kind='bar', legend='True')\n",
    "plt.xticks(rotation=90)"
   ]
  },
  {
   "cell_type": "code",
   "execution_count": 72,
   "id": "ad34c4b4",
   "metadata": {},
   "outputs": [
    {
     "data": {
      "text/plain": [
       "array(['Eastern and Southern Africa', 'East Asia and Pacific',\n",
       "       'Western and Central Africa', 'South Asia',\n",
       "       'Europe and Central Asia', 'Latin America and Caribbean',\n",
       "       'Middle East and North Africa', 'Other', 'Africa', 'Africa West',\n",
       "       nan, 'Africa East'], dtype=object)"
      ]
     },
     "execution_count": 72,
     "metadata": {},
     "output_type": "execute_result"
    }
   ],
   "source": [
    "df['Region'].unique()"
   ]
  },
  {
   "cell_type": "code",
   "execution_count": 76,
   "id": "aa9aa51d",
   "metadata": {},
   "outputs": [
    {
     "data": {
      "text/plain": [
       "array(['Bank Approved', 'Concept Review', nan, 'Begin Negotiation',\n",
       "       'Decision Meeting', 'Begin Appraisal'], dtype=object)"
      ]
     },
     "execution_count": 76,
     "metadata": {},
     "output_type": "execute_result"
    }
   ],
   "source": [
    "df['Last Stage Reached Name'].unique()"
   ]
  },
  {
   "cell_type": "code",
   "execution_count": 75,
   "id": "73a60aba",
   "metadata": {},
   "outputs": [
    {
     "data": {
      "text/plain": [
       "13494"
      ]
     },
     "execution_count": 75,
     "metadata": {},
     "output_type": "execute_result"
    }
   ],
   "source": [
    "len(df[df['Last Stage Reached Name']=='Bank Approved'])"
   ]
  },
  {
   "cell_type": "code",
   "execution_count": 77,
   "id": "1b634589",
   "metadata": {},
   "outputs": [
    {
     "name": "stdout",
     "output_type": "stream",
     "text": [
      "13494  are  Bank Approved\n",
      "1153  are  Concept Review\n",
      "0  are  nan\n",
      "223  are  Begin Negotiation\n",
      "124  are  Decision Meeting\n",
      "202  are  Begin Appraisal\n"
     ]
    }
   ],
   "source": [
    "for i in df['Last Stage Reached Name'].unique():\n",
    "    print(len(df[df['Last Stage Reached Name']==i]), ' are ',i)"
   ]
  },
  {
   "cell_type": "code",
   "execution_count": 79,
   "id": "14503470",
   "metadata": {},
   "outputs": [],
   "source": [
    "count =[]\n",
    "stage =[]\n",
    "for i in df['Last Stage Reached Name'].unique():\n",
    "    count.append(len(df[df['Last Stage Reached Name']==i]))\n",
    "    stage.append(i)"
   ]
  },
  {
   "cell_type": "code",
   "execution_count": 82,
   "id": "f64dadee",
   "metadata": {},
   "outputs": [],
   "source": [
    "count_df = pd.DataFrame({'count':count,'stage':stage})"
   ]
  },
  {
   "cell_type": "code",
   "execution_count": 83,
   "id": "022971f8",
   "metadata": {},
   "outputs": [
    {
     "data": {
      "text/html": [
       "<div>\n",
       "<style scoped>\n",
       "    .dataframe tbody tr th:only-of-type {\n",
       "        vertical-align: middle;\n",
       "    }\n",
       "\n",
       "    .dataframe tbody tr th {\n",
       "        vertical-align: top;\n",
       "    }\n",
       "\n",
       "    .dataframe thead th {\n",
       "        text-align: right;\n",
       "    }\n",
       "</style>\n",
       "<table border=\"1\" class=\"dataframe\">\n",
       "  <thead>\n",
       "    <tr style=\"text-align: right;\">\n",
       "      <th></th>\n",
       "      <th>count</th>\n",
       "      <th>stage</th>\n",
       "    </tr>\n",
       "  </thead>\n",
       "  <tbody>\n",
       "    <tr>\n",
       "      <th>0</th>\n",
       "      <td>13494</td>\n",
       "      <td>Bank Approved</td>\n",
       "    </tr>\n",
       "    <tr>\n",
       "      <th>1</th>\n",
       "      <td>1153</td>\n",
       "      <td>Concept Review</td>\n",
       "    </tr>\n",
       "    <tr>\n",
       "      <th>2</th>\n",
       "      <td>0</td>\n",
       "      <td>NaN</td>\n",
       "    </tr>\n",
       "    <tr>\n",
       "      <th>3</th>\n",
       "      <td>223</td>\n",
       "      <td>Begin Negotiation</td>\n",
       "    </tr>\n",
       "    <tr>\n",
       "      <th>4</th>\n",
       "      <td>124</td>\n",
       "      <td>Decision Meeting</td>\n",
       "    </tr>\n",
       "    <tr>\n",
       "      <th>5</th>\n",
       "      <td>202</td>\n",
       "      <td>Begin Appraisal</td>\n",
       "    </tr>\n",
       "  </tbody>\n",
       "</table>\n",
       "</div>"
      ],
      "text/plain": [
       "   count              stage\n",
       "0  13494      Bank Approved\n",
       "1   1153     Concept Review\n",
       "2      0                NaN\n",
       "3    223  Begin Negotiation\n",
       "4    124   Decision Meeting\n",
       "5    202    Begin Appraisal"
      ]
     },
     "execution_count": 83,
     "metadata": {},
     "output_type": "execute_result"
    }
   ],
   "source": [
    "count_df"
   ]
  },
  {
   "cell_type": "markdown",
   "id": "133052cb",
   "metadata": {},
   "source": [
    "# count plot on last date reached column"
   ]
  },
  {
   "cell_type": "code",
   "execution_count": 88,
   "id": "d4d88996",
   "metadata": {},
   "outputs": [
    {
     "data": {
      "text/plain": [
       "(array([0, 1, 2, 3, 4]),\n",
       " [Text(0, 0, 'Bank Approved'),\n",
       "  Text(1, 0, 'Concept Review'),\n",
       "  Text(2, 0, 'Begin Negotiation'),\n",
       "  Text(3, 0, 'Decision Meeting'),\n",
       "  Text(4, 0, 'Begin Appraisal')])"
      ]
     },
     "execution_count": 88,
     "metadata": {},
     "output_type": "execute_result"
    },
    {
     "data": {
      "image/png": "[encoded data removed]",
      "text/plain": [
       "<Figure size 864x576 with 1 Axes>"
      ]
     },
     "metadata": {
      "needs_background": "light"
     },
     "output_type": "display_data"
    }
   ],
   "source": [
    "plt.figure(figsize=(12,8))\n",
    "sns.countplot(x='Last Stage Reached Name',data=df)\n",
    "plt.xticks(rotation=90)"
   ]
  },
  {
   "cell_type": "code",
   "execution_count": 87,
   "id": "e1124465",
   "metadata": {},
   "outputs": [
    {
     "data": {
      "text/plain": [
       "array(['Ministry Of Education',\n",
       "       'Ministry of Public Works, Transport, and Communications',\n",
       "       'Kenya National Bureau of Statistics', ...,\n",
       "       \"Ciments de L'Afrique de l'Ouest (CIMAO)\",\n",
       "       'GAMWORKS, Department of State for Health',\n",
       "       'Ethiopian Roads Authority, Ministry of Transport RSVP, (former) Planning Commission / India Backbone Implementation Network'],\n",
       "      dtype=object)"
      ]
     },
     "execution_count": 87,
     "metadata": {},
     "output_type": "execute_result"
    }
   ],
   "source": [
    "df['Implementing Agency'].unique()"
   ]
  },
  {
   "cell_type": "code",
   "execution_count": 92,
   "id": "168b903d",
   "metadata": {},
   "outputs": [
    {
     "data": {
      "text/plain": [
       "Ministry of Finance                                                                                                                                 227\n",
       "Ministry of Health                                                                                                                                  165\n",
       "Ministry of Education                                                                                                                                71\n",
       "Ministry of Economy and Finance                                                                                                                      71\n",
       "Ministry of Agriculture                                                                                                                              51\n",
       "                                                                                                                                                   ... \n",
       "Agence des Travaux et de Gestion des Routes (AGEROUTE Senegal), Coordination du PATMUR, Conseil Exécutif des Transports Urbains de Dakar (CETUD)      1\n",
       "Honiara City Council, Ministry of Infrastructure Development                                                                                          1\n",
       "Projeto COOPERAR (SEAFDS)                                                                                                                             1\n",
       "Department of Rural Development, Government of Jharkhand                                                                                              1\n",
       "Statistical Committee of the Republic of Armenia, Foreign Financing Projects Management Center (FFPMC)                                                1\n",
       "Name: Implementing Agency, Length: 4621, dtype: int64"
      ]
     },
     "execution_count": 92,
     "metadata": {},
     "output_type": "execute_result"
    }
   ],
   "source": [
    "df['Implementing Agency'].value_counts().sort_values(ascending=False)"
   ]
  },
  {
   "cell_type": "code",
   "execution_count": null,
   "id": "ea658bcf",
   "metadata": {},
   "outputs": [],
   "source": [
    "df['Implementing Agency'].value_counts().sort_values(ascending=False)[:10]"
   ]
  },
  {
   "cell_type": "markdown",
   "id": "a5cecfe3",
   "metadata": {},
   "source": [
    "# Bar plot on Implementing agency and the number of projects it handled."
   ]
  },
  {
   "cell_type": "code",
   "execution_count": 94,
   "id": "b1573e5d",
   "metadata": {},
   "outputs": [
    {
     "data": {
      "text/plain": [
       "(array([0, 1, 2, 3, 4, 5, 6, 7, 8, 9]),\n",
       " [Text(0, 0, 'Ministry of Finance'),\n",
       "  Text(1, 0, 'Ministry of Health'),\n",
       "  Text(2, 0, 'Ministry of Education'),\n",
       "  Text(3, 0, 'Ministry of Economy and Finance'),\n",
       "  Text(4, 0, 'Ministry of Agriculture'),\n",
       "  Text(5, 0, 'Ministry of Environment'),\n",
       "  Text(6, 0, 'Ministry of Public Health'),\n",
       "  Text(7, 0, 'Ministry of Agriculture and Rural Development'),\n",
       "  Text(8, 0, 'Ministry of Finance and Economic Development'),\n",
       "  Text(9, 0, 'Ministry of Health and Population')])"
      ]
     },
     "execution_count": 94,
     "metadata": {},
     "output_type": "execute_result"
    },
    {
     "data": {
      "image/png": "[encoded data removed]",
      "text/plain": [
       "<Figure size 864x576 with 1 Axes>"
      ]
     },
     "metadata": {
      "needs_background": "light"
     },
     "output_type": "display_data"
    }
   ],
   "source": [
    "plt.figure(figsize=(12,8))\n",
    "sns.barplot(x=df['Implementing Agency'].value_counts().sort_values(ascending=False)[:10].index\n",
    "            ,y = df['Implementing Agency'].value_counts().sort_values(ascending=False)[:10])\n",
    "plt.xticks(rotation=90)"
   ]
  },
  {
   "cell_type": "markdown",
   "id": "60da2af8",
   "metadata": {},
   "source": [
    "# countplot on the region and it's project status"
   ]
  },
  {
   "cell_type": "code",
   "execution_count": 96,
   "id": "1f71c252",
   "metadata": {},
   "outputs": [
    {
     "data": {
      "text/plain": [
       "(array([ 0,  1,  2,  3,  4,  5,  6,  7,  8,  9, 10]),\n",
       " [Text(0, 0, 'Eastern and Southern Africa'),\n",
       "  Text(1, 0, 'East Asia and Pacific'),\n",
       "  Text(2, 0, 'Western and Central Africa'),\n",
       "  Text(3, 0, 'South Asia'),\n",
       "  Text(4, 0, 'Europe and Central Asia'),\n",
       "  Text(5, 0, 'Latin America and Caribbean'),\n",
       "  Text(6, 0, 'Middle East and North Africa'),\n",
       "  Text(7, 0, 'Other'),\n",
       "  Text(8, 0, 'Africa'),\n",
       "  Text(9, 0, 'Africa West'),\n",
       "  Text(10, 0, 'Africa East')])"
      ]
     },
     "execution_count": 96,
     "metadata": {},
     "output_type": "execute_result"
    },
    {
     "data": {
      "image/png": "[encoded data removed]",
      "text/plain": [
       "<Figure size 2400x1600 with 1 Axes>"
      ]
     },
     "metadata": {
      "needs_background": "light"
     },
     "output_type": "display_data"
    }
   ],
   "source": [
    "plt.figure(figsize=(12,8),dpi=200)\n",
    "sns.countplot(x='Region',data=df,hue='Project Status')\n",
    "plt.xticks(rotation=90)"
   ]
  },
  {
   "cell_type": "code",
   "execution_count": null,
   "id": "f5c5bc7e",
   "metadata": {},
   "outputs": [],
   "source": []
  }
 ],
 "metadata": {
  "kernelspec": {
   "display_name": "Python 3 (ipykernel)",
   "language": "python",
   "name": "python3"
  },
  "language_info": {
   "codemirror_mode": {
    "name": "ipython",
    "version": 3
   },
   "file_extension": ".py",
   "mimetype": "text/x-python",
   "name": "python",
   "nbconvert_exporter": "python",
   "pygments_lexer": "ipython3",
   "version": "3.8.8"
  }
 },
 "nbformat": 4,
 "nbformat_minor": 5
}
