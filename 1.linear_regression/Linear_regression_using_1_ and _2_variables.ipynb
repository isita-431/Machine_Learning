{
 "cells": [
  {
   "cell_type": "code",
   "execution_count": 1,
   "id": "3ce84224",
   "metadata": {},
   "outputs": [],
   "source": [
    "#importing packages\n",
    "import numpy as np\n",
    "import matplotlib.pyplot as plt\n",
    "import pandas as pd\n",
    "from sklearn.linear_model import LinearRegression"
   ]
  },
  {
   "cell_type": "code",
   "execution_count": 2,
   "id": "5cb7ebd9",
   "metadata": {
    "scrolled": true
   },
   "outputs": [
    {
     "data": {
      "text/html": [
       "<div>\n",
       "<style scoped>\n",
       "    .dataframe tbody tr th:only-of-type {\n",
       "        vertical-align: middle;\n",
       "    }\n",
       "\n",
       "    .dataframe tbody tr th {\n",
       "        vertical-align: top;\n",
       "    }\n",
       "\n",
       "    .dataframe thead th {\n",
       "        text-align: right;\n",
       "    }\n",
       "</style>\n",
       "<table border=\"1\" class=\"dataframe\">\n",
       "  <thead>\n",
       "    <tr style=\"text-align: right;\">\n",
       "      <th></th>\n",
       "      <th>Age</th>\n",
       "      <th>Weight</th>\n",
       "      <th>SBP</th>\n",
       "    </tr>\n",
       "  </thead>\n",
       "  <tbody>\n",
       "    <tr>\n",
       "      <th>0</th>\n",
       "      <td>60</td>\n",
       "      <td>58</td>\n",
       "      <td>117</td>\n",
       "    </tr>\n",
       "    <tr>\n",
       "      <th>1</th>\n",
       "      <td>61</td>\n",
       "      <td>90</td>\n",
       "      <td>120</td>\n",
       "    </tr>\n",
       "    <tr>\n",
       "      <th>2</th>\n",
       "      <td>74</td>\n",
       "      <td>96</td>\n",
       "      <td>145</td>\n",
       "    </tr>\n",
       "    <tr>\n",
       "      <th>3</th>\n",
       "      <td>57</td>\n",
       "      <td>72</td>\n",
       "      <td>129</td>\n",
       "    </tr>\n",
       "    <tr>\n",
       "      <th>4</th>\n",
       "      <td>63</td>\n",
       "      <td>62</td>\n",
       "      <td>132</td>\n",
       "    </tr>\n",
       "    <tr>\n",
       "      <th>5</th>\n",
       "      <td>68</td>\n",
       "      <td>79</td>\n",
       "      <td>130</td>\n",
       "    </tr>\n",
       "    <tr>\n",
       "      <th>6</th>\n",
       "      <td>66</td>\n",
       "      <td>69</td>\n",
       "      <td>110</td>\n",
       "    </tr>\n",
       "    <tr>\n",
       "      <th>7</th>\n",
       "      <td>77</td>\n",
       "      <td>96</td>\n",
       "      <td>163</td>\n",
       "    </tr>\n",
       "    <tr>\n",
       "      <th>8</th>\n",
       "      <td>63</td>\n",
       "      <td>96</td>\n",
       "      <td>136</td>\n",
       "    </tr>\n",
       "    <tr>\n",
       "      <th>9</th>\n",
       "      <td>54</td>\n",
       "      <td>54</td>\n",
       "      <td>115</td>\n",
       "    </tr>\n",
       "    <tr>\n",
       "      <th>10</th>\n",
       "      <td>63</td>\n",
       "      <td>67</td>\n",
       "      <td>118</td>\n",
       "    </tr>\n",
       "    <tr>\n",
       "      <th>11</th>\n",
       "      <td>76</td>\n",
       "      <td>99</td>\n",
       "      <td>132</td>\n",
       "    </tr>\n",
       "    <tr>\n",
       "      <th>12</th>\n",
       "      <td>60</td>\n",
       "      <td>74</td>\n",
       "      <td>111</td>\n",
       "    </tr>\n",
       "    <tr>\n",
       "      <th>13</th>\n",
       "      <td>61</td>\n",
       "      <td>73</td>\n",
       "      <td>112</td>\n",
       "    </tr>\n",
       "    <tr>\n",
       "      <th>14</th>\n",
       "      <td>65</td>\n",
       "      <td>85</td>\n",
       "      <td>147</td>\n",
       "    </tr>\n",
       "    <tr>\n",
       "      <th>15</th>\n",
       "      <td>79</td>\n",
       "      <td>80</td>\n",
       "      <td>138</td>\n",
       "    </tr>\n",
       "  </tbody>\n",
       "</table>\n",
       "</div>"
      ],
      "text/plain": [
       "    Age  Weight  SBP\n",
       "0    60      58  117\n",
       "1    61      90  120\n",
       "2    74      96  145\n",
       "3    57      72  129\n",
       "4    63      62  132\n",
       "5    68      79  130\n",
       "6    66      69  110\n",
       "7    77      96  163\n",
       "8    63      96  136\n",
       "9    54      54  115\n",
       "10   63      67  118\n",
       "11   76      99  132\n",
       "12   60      74  111\n",
       "13   61      73  112\n",
       "14   65      85  147\n",
       "15   79      80  138"
      ]
     },
     "execution_count": 2,
     "metadata": {},
     "output_type": "execute_result"
    }
   ],
   "source": [
    "#importing our dataset\n",
    "df=pd.read_csv('SBP.csv')\n",
    "#viewing the dataFrame\n",
    "df"
   ]
  },
  {
   "cell_type": "code",
   "execution_count": 3,
   "id": "b271a320",
   "metadata": {},
   "outputs": [
    {
     "data": {
      "text/plain": [
       "LinearRegression()"
      ]
     },
     "execution_count": 3,
     "metadata": {},
     "output_type": "execute_result"
    }
   ],
   "source": [
    "#single_variable linear regression (relation between age vs SBP)\n",
    "reg1=LinearRegression()\n",
    "reg1.fit(df[['Age']],df.SBP)"
   ]
  },
  {
   "cell_type": "code",
   "execution_count": 4,
   "id": "5c9ab230",
   "metadata": {},
   "outputs": [
    {
     "data": {
      "text/plain": [
       "Text(0, 0.5, 'SBP')"
      ]
     },
     "execution_count": 4,
     "metadata": {},
     "output_type": "execute_result"
    },
    {
     "data": {
      "image/png": "[encoded data removed]",
      "text/plain": [
       "<Figure size 432x288 with 1 Axes>"
      ]
     },
     "metadata": {
      "needs_background": "light"
     },
     "output_type": "display_data"
    }
   ],
   "source": [
    "#plotting Age vs SBP\n",
    "plt.scatter(df[['Age']],df[['SBP']],color='b',marker='o')\n",
    "plt.plot(df[['Age']],reg1.predict(df[['Age']]) , color='r')\n",
    "plt.xlabel('AGE',fontsize='25')\n",
    "plt.ylabel('SBP',fontsize='25')"
   ]
  },
  {
   "cell_type": "code",
   "execution_count": 5,
   "id": "308df3c8",
   "metadata": {},
   "outputs": [
    {
     "data": {
      "text/plain": [
       "0.43737796277089047"
      ]
     },
     "execution_count": 5,
     "metadata": {},
     "output_type": "execute_result"
    }
   ],
   "source": [
    "reg1.score(df[['Age']],df.SBP)"
   ]
  },
  {
   "cell_type": "code",
   "execution_count": 6,
   "id": "3405d3c9",
   "metadata": {},
   "outputs": [
    {
     "data": {
      "text/plain": [
       "LinearRegression()"
      ]
     },
     "execution_count": 6,
     "metadata": {},
     "output_type": "execute_result"
    }
   ],
   "source": [
    "#single_variable linear regression (relation between age vs SBP)\n",
    "reg2=LinearRegression()\n",
    "reg2.fit(df[['Weight']],df.SBP)"
   ]
  },
  {
   "cell_type": "code",
   "execution_count": 7,
   "id": "64aaaa7b",
   "metadata": {},
   "outputs": [
    {
     "data": {
      "text/plain": [
       "Text(0, 0.5, 'SBP')"
      ]
     },
     "execution_count": 7,
     "metadata": {},
     "output_type": "execute_result"
    },
    {
     "data": {
      "image/png": "[encoded data removed]",
      "text/plain": [
       "<Figure size 432x288 with 1 Axes>"
      ]
     },
     "metadata": {
      "needs_background": "light"
     },
     "output_type": "display_data"
    }
   ],
   "source": [
    "#plotting Weight vs SBP\n",
    "plt.scatter(df[['Weight']],df[['SBP']],color='r',marker='o')\n",
    "plt.plot(df[['Weight']],reg2.predict(df[['Weight']]) , color='b')\n",
    "plt.xlabel('Weight',fontsize='25')\n",
    "plt.ylabel('SBP',fontsize='25')"
   ]
  },
  {
   "cell_type": "code",
   "execution_count": 8,
   "id": "72abcd26",
   "metadata": {},
   "outputs": [
    {
     "data": {
      "text/plain": [
       "0.41762382210341287"
      ]
     },
     "execution_count": 8,
     "metadata": {},
     "output_type": "execute_result"
    }
   ],
   "source": [
    "reg2.score(df[['Weight']],df.SBP)"
   ]
  },
  {
   "cell_type": "code",
   "execution_count": 9,
   "id": "74f04e2c",
   "metadata": {},
   "outputs": [
    {
     "data": {
      "text/plain": [
       "LinearRegression()"
      ]
     },
     "execution_count": 9,
     "metadata": {},
     "output_type": "execute_result"
    }
   ],
   "source": [
    "#using linear_regression model from sklearn\n",
    "reg=LinearRegression()\n",
    "reg.fit(df[['Age','Weight']],df.SBP)"
   ]
  },
  {
   "cell_type": "code",
   "execution_count": 10,
   "id": "f499db45",
   "metadata": {
    "scrolled": true
   },
   "outputs": [
    {
     "name": "stdout",
     "output_type": "stream",
     "text": [
      "[0.84460174 0.38936442]\n"
     ]
    }
   ],
   "source": [
    "#coefficients of the regression\n",
    "reg.coef_\n",
    "x=reg.coef_\n",
    "print(x)"
   ]
  },
  {
   "cell_type": "code",
   "execution_count": 11,
   "id": "4d665020",
   "metadata": {},
   "outputs": [],
   "source": [
    "#intercept of the regression\n",
    "c=reg.intercept_"
   ]
  },
  {
   "cell_type": "code",
   "execution_count": 12,
   "id": "28703b6b",
   "metadata": {},
   "outputs": [
    {
     "data": {
      "text/plain": [
       "array([141.46707117])"
      ]
     },
     "execution_count": 12,
     "metadata": {},
     "output_type": "execute_result"
    }
   ],
   "source": [
    "#predicting SBP (Systolic Blood Pressure)\n",
    "reg.predict([[80,80]])"
   ]
  },
  {
   "cell_type": "code",
   "execution_count": 13,
   "id": "a615d0bf",
   "metadata": {
    "scrolled": true
   },
   "outputs": [
    {
     "data": {
      "text/plain": [
       "141.46707116678334"
      ]
     },
     "execution_count": 13,
     "metadata": {},
     "output_type": "execute_result"
    }
   ],
   "source": [
    "#checking our predicted value\n",
    "#y == predicted value\n",
    "#y=β1x1+β2x2+⋯+βnxn+β0 or y=m1x1+m2x2+.....+c\n",
    "y= 80*x[0]+80*x[1]+c\n",
    "y"
   ]
  },
  {
   "cell_type": "code",
   "execution_count": 14,
   "id": "4aae4fa0",
   "metadata": {
    "scrolled": false
   },
   "outputs": [
    {
     "data": {
      "text/plain": [
       "0.51705367488817"
      ]
     },
     "execution_count": 14,
     "metadata": {},
     "output_type": "execute_result"
    }
   ],
   "source": [
    "#evaluating  model performance in a form of R-squared using reg.score\n",
    "#R2 = 1 indicates that the fitted model explains all variability score=0 - no linear regression\n",
    "reg.score(df[['Age','Weight']],df.SBP)"
   ]
  }
 ],
 "metadata": {
  "kernelspec": {
   "display_name": "Python 3",
   "language": "python",
   "name": "python3"
  },
  "language_info": {
   "codemirror_mode": {
    "name": "ipython",
    "version": 3
   },
   "file_extension": ".py",
   "mimetype": "text/x-python",
   "name": "python",
   "nbconvert_exporter": "python",
   "pygments_lexer": "ipython3",
   "version": "3.8.8"
  }
 },
 "nbformat": 4,
 "nbformat_minor": 5
}
